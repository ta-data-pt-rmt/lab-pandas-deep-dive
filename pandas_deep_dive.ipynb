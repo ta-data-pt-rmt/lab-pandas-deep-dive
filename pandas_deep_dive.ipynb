{
 "cells": [
  {
   "cell_type": "markdown",
   "metadata": {},
   "source": [
    "# Pandas Deep-Dive\n",
    "\n"
   ]
  },
  {
   "cell_type": "markdown",
   "metadata": {},
   "source": [
    "#### 1. Import Pandas package under the alias pd and Numpy under the alias np."
   ]
  },
  {
   "cell_type": "code",
   "execution_count": 2,
   "metadata": {},
   "outputs": [],
   "source": [
    "# your code here\n",
    "import pandas as pd\n",
    "import numpy as np\n",
    "import mysql.connector\n",
    "import getpass"
   ]
  },
  {
   "cell_type": "markdown",
   "metadata": {},
   "source": [
    "#### 2. Use the `apple_store.sql` file to create a new database in mySQL workbench with that data. Once loaded, try to answer the following questions using mySQL workbench:\n",
    "\n",
    " - How many apps are there in the data source?\n",
    " - What is the average rating of all apps?\n",
    " - How many apps have an average rating no less than 4?\n",
    " - How many genres are there in total for all the apps?\n",
    " - Which genre is most likely to contain free apps?"
   ]
  },
  {
   "cell_type": "code",
   "execution_count": null,
   "metadata": {},
   "outputs": [],
   "source": [
    "# your answers here\n",
    "#7195\n",
    "#3.526955675976101\n",
    "#4781\n",
    "#23\n",
    "#2257\n"
   ]
  },
  {
   "cell_type": "code",
   "execution_count": 3,
   "metadata": {},
   "outputs": [],
   "source": [
    "saved_password = getpass.getpass()"
   ]
  },
  {
   "cell_type": "code",
   "execution_count": 4,
   "metadata": {},
   "outputs": [],
   "source": [
    "cnx = mysql.connector.connect(user = 'root',password = saved_password, host ='localhost', database = 'pandas_deep_dive')"
   ]
  },
  {
   "cell_type": "code",
   "execution_count": 5,
   "metadata": {},
   "outputs": [
    {
     "data": {
      "text/plain": [
       "True"
      ]
     },
     "execution_count": 5,
     "metadata": {},
     "output_type": "execute_result"
    }
   ],
   "source": [
    "cnx.is_connected()\n"
   ]
  },
  {
   "cell_type": "code",
   "execution_count": 7,
   "metadata": {},
   "outputs": [],
   "source": [
    "cursor = cnx.cursor()\n",
    "query = ('SELECT * FROM pandas_deep_dive.apple_store')\n",
    "cursor.execute(query)\n",
    "results = cursor.fetchall()"
   ]
  },
  {
   "cell_type": "markdown",
   "metadata": {},
   "source": [
    "#### 3. Create a SQL connection in this notebook and load the `apple_store` dataset. Assign it to a variable called `data`, which would be a pandas dataframe."
   ]
  },
  {
   "cell_type": "code",
   "execution_count": 57,
   "metadata": {},
   "outputs": [
    {
     "data": {
      "text/html": [
       "<div>\n",
       "<style scoped>\n",
       "    .dataframe tbody tr th:only-of-type {\n",
       "        vertical-align: middle;\n",
       "    }\n",
       "\n",
       "    .dataframe tbody tr th {\n",
       "        vertical-align: top;\n",
       "    }\n",
       "\n",
       "    .dataframe thead th {\n",
       "        text-align: right;\n",
       "    }\n",
       "</style>\n",
       "<table border=\"1\" class=\"dataframe\">\n",
       "  <thead>\n",
       "    <tr style=\"text-align: right;\">\n",
       "      <th></th>\n",
       "      <th>0</th>\n",
       "      <th>1</th>\n",
       "      <th>2</th>\n",
       "      <th>3</th>\n",
       "      <th>4</th>\n",
       "      <th>5</th>\n",
       "      <th>6</th>\n",
       "      <th>7</th>\n",
       "      <th>8</th>\n",
       "    </tr>\n",
       "  </thead>\n",
       "  <tbody>\n",
       "    <tr>\n",
       "      <th>0</th>\n",
       "      <td>281656475</td>\n",
       "      <td>PAC-MAN Premium</td>\n",
       "      <td>100788224</td>\n",
       "      <td>3.99</td>\n",
       "      <td>21292</td>\n",
       "      <td>26</td>\n",
       "      <td>4</td>\n",
       "      <td>4.5</td>\n",
       "      <td>Games</td>\n",
       "    </tr>\n",
       "    <tr>\n",
       "      <th>1</th>\n",
       "      <td>281796108</td>\n",
       "      <td>Evernote - stay organized</td>\n",
       "      <td>158578688</td>\n",
       "      <td>0</td>\n",
       "      <td>161065</td>\n",
       "      <td>26</td>\n",
       "      <td>4</td>\n",
       "      <td>3.5</td>\n",
       "      <td>Productivity</td>\n",
       "    </tr>\n",
       "    <tr>\n",
       "      <th>2</th>\n",
       "      <td>281940292</td>\n",
       "      <td>\"WeatherBug - Local Weather, Radar, Maps, Alerts\"</td>\n",
       "      <td>100524032</td>\n",
       "      <td>0</td>\n",
       "      <td>188583</td>\n",
       "      <td>2822</td>\n",
       "      <td>3.5</td>\n",
       "      <td>4.5</td>\n",
       "      <td>Weather</td>\n",
       "    </tr>\n",
       "    <tr>\n",
       "      <th>3</th>\n",
       "      <td>282614216</td>\n",
       "      <td>\"eBay: Best App to Buy, Sell, Save! Online Sho...</td>\n",
       "      <td>128512000</td>\n",
       "      <td>0</td>\n",
       "      <td>262241</td>\n",
       "      <td>649</td>\n",
       "      <td>4</td>\n",
       "      <td>4.5</td>\n",
       "      <td>Shopping</td>\n",
       "    </tr>\n",
       "    <tr>\n",
       "      <th>4</th>\n",
       "      <td>282935706</td>\n",
       "      <td>Bible</td>\n",
       "      <td>92774400</td>\n",
       "      <td>0</td>\n",
       "      <td>985920</td>\n",
       "      <td>5320</td>\n",
       "      <td>4.5</td>\n",
       "      <td>5</td>\n",
       "      <td>Reference</td>\n",
       "    </tr>\n",
       "    <tr>\n",
       "      <th>...</th>\n",
       "      <td>...</td>\n",
       "      <td>...</td>\n",
       "      <td>...</td>\n",
       "      <td>...</td>\n",
       "      <td>...</td>\n",
       "      <td>...</td>\n",
       "      <td>...</td>\n",
       "      <td>...</td>\n",
       "      <td>...</td>\n",
       "    </tr>\n",
       "    <tr>\n",
       "      <th>7192</th>\n",
       "      <td>1187617475</td>\n",
       "      <td>Kubik</td>\n",
       "      <td>126644224</td>\n",
       "      <td>0</td>\n",
       "      <td>142</td>\n",
       "      <td>75</td>\n",
       "      <td>4.5</td>\n",
       "      <td>4.5</td>\n",
       "      <td>Games</td>\n",
       "    </tr>\n",
       "    <tr>\n",
       "      <th>7193</th>\n",
       "      <td>1187682390</td>\n",
       "      <td>VR Roller-Coaster</td>\n",
       "      <td>120760320</td>\n",
       "      <td>0</td>\n",
       "      <td>30</td>\n",
       "      <td>30</td>\n",
       "      <td>4.5</td>\n",
       "      <td>4.5</td>\n",
       "      <td>Games</td>\n",
       "    </tr>\n",
       "    <tr>\n",
       "      <th>7194</th>\n",
       "      <td>1187779532</td>\n",
       "      <td>Bret Michaels Emojis + Lyric Keyboard</td>\n",
       "      <td>111322112</td>\n",
       "      <td>1.99</td>\n",
       "      <td>15</td>\n",
       "      <td>0</td>\n",
       "      <td>4.5</td>\n",
       "      <td>0</td>\n",
       "      <td>Utilities</td>\n",
       "    </tr>\n",
       "    <tr>\n",
       "      <th>7195</th>\n",
       "      <td>1187838770</td>\n",
       "      <td>VR Roller Coaster World - Virtual Reality</td>\n",
       "      <td>97235968</td>\n",
       "      <td>0</td>\n",
       "      <td>85</td>\n",
       "      <td>32</td>\n",
       "      <td>4.5</td>\n",
       "      <td>4.5</td>\n",
       "      <td>Games</td>\n",
       "    </tr>\n",
       "    <tr>\n",
       "      <th>7196</th>\n",
       "      <td>1188375727</td>\n",
       "      <td>Escape the Sweet Shop Series</td>\n",
       "      <td>90898432</td>\n",
       "      <td>0</td>\n",
       "      <td>3</td>\n",
       "      <td>3</td>\n",
       "      <td>5</td>\n",
       "      <td>5</td>\n",
       "      <td>Games</td>\n",
       "    </tr>\n",
       "  </tbody>\n",
       "</table>\n",
       "<p>7197 rows × 9 columns</p>\n",
       "</div>"
      ],
      "text/plain": [
       "               0                                                  1  \\\n",
       "0      281656475                                    PAC-MAN Premium   \n",
       "1      281796108                          Evernote - stay organized   \n",
       "2      281940292  \"WeatherBug - Local Weather, Radar, Maps, Alerts\"   \n",
       "3      282614216  \"eBay: Best App to Buy, Sell, Save! Online Sho...   \n",
       "4      282935706                                              Bible   \n",
       "...          ...                                                ...   \n",
       "7192  1187617475                                              Kubik   \n",
       "7193  1187682390                                  VR Roller-Coaster   \n",
       "7194  1187779532              Bret Michaels Emojis + Lyric Keyboard   \n",
       "7195  1187838770          VR Roller Coaster World - Virtual Reality   \n",
       "7196  1188375727                       Escape the Sweet Shop Series   \n",
       "\n",
       "              2     3       4     5    6    7             8  \n",
       "0     100788224  3.99   21292    26    4  4.5         Games  \n",
       "1     158578688     0  161065    26    4  3.5  Productivity  \n",
       "2     100524032     0  188583  2822  3.5  4.5       Weather  \n",
       "3     128512000     0  262241   649    4  4.5      Shopping  \n",
       "4      92774400     0  985920  5320  4.5    5     Reference  \n",
       "...         ...   ...     ...   ...  ...  ...           ...  \n",
       "7192  126644224     0     142    75  4.5  4.5         Games  \n",
       "7193  120760320     0      30    30  4.5  4.5         Games  \n",
       "7194  111322112  1.99      15     0  4.5    0     Utilities  \n",
       "7195   97235968     0      85    32  4.5  4.5         Games  \n",
       "7196   90898432     0       3     3    5    5         Games  \n",
       "\n",
       "[7197 rows x 9 columns]"
      ]
     },
     "execution_count": 57,
     "metadata": {},
     "output_type": "execute_result"
    }
   ],
   "source": [
    "# your code here\n",
    "data = pd.DataFrame(results)\n",
    "data"
   ]
  },
  {
   "cell_type": "markdown",
   "metadata": {},
   "source": [
    "#### 4. Print the first 5 rows of `data` to see what the data look like.\n",
    "\n",
    "A data analyst usually does this to have a general understanding about what the data look like before digging deep."
   ]
  },
  {
   "cell_type": "code",
   "execution_count": 12,
   "metadata": {},
   "outputs": [
    {
     "data": {
      "text/html": [
       "<div>\n",
       "<style scoped>\n",
       "    .dataframe tbody tr th:only-of-type {\n",
       "        vertical-align: middle;\n",
       "    }\n",
       "\n",
       "    .dataframe tbody tr th {\n",
       "        vertical-align: top;\n",
       "    }\n",
       "\n",
       "    .dataframe thead th {\n",
       "        text-align: right;\n",
       "    }\n",
       "</style>\n",
       "<table border=\"1\" class=\"dataframe\">\n",
       "  <thead>\n",
       "    <tr style=\"text-align: right;\">\n",
       "      <th></th>\n",
       "      <th>0</th>\n",
       "      <th>1</th>\n",
       "      <th>2</th>\n",
       "      <th>3</th>\n",
       "      <th>4</th>\n",
       "      <th>5</th>\n",
       "      <th>6</th>\n",
       "      <th>7</th>\n",
       "      <th>8</th>\n",
       "    </tr>\n",
       "  </thead>\n",
       "  <tbody>\n",
       "    <tr>\n",
       "      <th>0</th>\n",
       "      <td>281656475</td>\n",
       "      <td>PAC-MAN Premium</td>\n",
       "      <td>100788224</td>\n",
       "      <td>3.99</td>\n",
       "      <td>21292</td>\n",
       "      <td>26</td>\n",
       "      <td>4</td>\n",
       "      <td>4.5</td>\n",
       "      <td>Games</td>\n",
       "    </tr>\n",
       "    <tr>\n",
       "      <th>1</th>\n",
       "      <td>281796108</td>\n",
       "      <td>Evernote - stay organized</td>\n",
       "      <td>158578688</td>\n",
       "      <td>0</td>\n",
       "      <td>161065</td>\n",
       "      <td>26</td>\n",
       "      <td>4</td>\n",
       "      <td>3.5</td>\n",
       "      <td>Productivity</td>\n",
       "    </tr>\n",
       "    <tr>\n",
       "      <th>2</th>\n",
       "      <td>281940292</td>\n",
       "      <td>\"WeatherBug - Local Weather, Radar, Maps, Alerts\"</td>\n",
       "      <td>100524032</td>\n",
       "      <td>0</td>\n",
       "      <td>188583</td>\n",
       "      <td>2822</td>\n",
       "      <td>3.5</td>\n",
       "      <td>4.5</td>\n",
       "      <td>Weather</td>\n",
       "    </tr>\n",
       "    <tr>\n",
       "      <th>3</th>\n",
       "      <td>282614216</td>\n",
       "      <td>\"eBay: Best App to Buy, Sell, Save! Online Sho...</td>\n",
       "      <td>128512000</td>\n",
       "      <td>0</td>\n",
       "      <td>262241</td>\n",
       "      <td>649</td>\n",
       "      <td>4</td>\n",
       "      <td>4.5</td>\n",
       "      <td>Shopping</td>\n",
       "    </tr>\n",
       "    <tr>\n",
       "      <th>4</th>\n",
       "      <td>282935706</td>\n",
       "      <td>Bible</td>\n",
       "      <td>92774400</td>\n",
       "      <td>0</td>\n",
       "      <td>985920</td>\n",
       "      <td>5320</td>\n",
       "      <td>4.5</td>\n",
       "      <td>5</td>\n",
       "      <td>Reference</td>\n",
       "    </tr>\n",
       "  </tbody>\n",
       "</table>\n",
       "</div>"
      ],
      "text/plain": [
       "           0                                                  1          2  \\\n",
       "0  281656475                                    PAC-MAN Premium  100788224   \n",
       "1  281796108                          Evernote - stay organized  158578688   \n",
       "2  281940292  \"WeatherBug - Local Weather, Radar, Maps, Alerts\"  100524032   \n",
       "3  282614216  \"eBay: Best App to Buy, Sell, Save! Online Sho...  128512000   \n",
       "4  282935706                                              Bible   92774400   \n",
       "\n",
       "      3       4     5    6    7             8  \n",
       "0  3.99   21292    26    4  4.5         Games  \n",
       "1     0  161065    26    4  3.5  Productivity  \n",
       "2     0  188583  2822  3.5  4.5       Weather  \n",
       "3     0  262241   649    4  4.5      Shopping  \n",
       "4     0  985920  5320  4.5    5     Reference  "
      ]
     },
     "execution_count": 12,
     "metadata": {},
     "output_type": "execute_result"
    }
   ],
   "source": [
    "# your code here\n",
    "data.head(5)"
   ]
  },
  {
   "cell_type": "markdown",
   "metadata": {},
   "source": [
    "#### 5. Print the summary of the data."
   ]
  },
  {
   "cell_type": "code",
   "execution_count": 14,
   "metadata": {},
   "outputs": [
    {
     "data": {
      "text/html": [
       "<div>\n",
       "<style scoped>\n",
       "    .dataframe tbody tr th:only-of-type {\n",
       "        vertical-align: middle;\n",
       "    }\n",
       "\n",
       "    .dataframe tbody tr th {\n",
       "        vertical-align: top;\n",
       "    }\n",
       "\n",
       "    .dataframe thead th {\n",
       "        text-align: right;\n",
       "    }\n",
       "</style>\n",
       "<table border=\"1\" class=\"dataframe\">\n",
       "  <thead>\n",
       "    <tr style=\"text-align: right;\">\n",
       "      <th></th>\n",
       "      <th>0</th>\n",
       "      <th>1</th>\n",
       "      <th>2</th>\n",
       "      <th>3</th>\n",
       "      <th>4</th>\n",
       "      <th>5</th>\n",
       "      <th>6</th>\n",
       "      <th>7</th>\n",
       "      <th>8</th>\n",
       "    </tr>\n",
       "  </thead>\n",
       "  <tbody>\n",
       "    <tr>\n",
       "      <th>count</th>\n",
       "      <td>7197</td>\n",
       "      <td>7197</td>\n",
       "      <td>7197</td>\n",
       "      <td>7197</td>\n",
       "      <td>7197</td>\n",
       "      <td>7197</td>\n",
       "      <td>7197</td>\n",
       "      <td>7197</td>\n",
       "      <td>7197</td>\n",
       "    </tr>\n",
       "    <tr>\n",
       "      <th>unique</th>\n",
       "      <td>7197</td>\n",
       "      <td>7195</td>\n",
       "      <td>7107</td>\n",
       "      <td>36</td>\n",
       "      <td>3185</td>\n",
       "      <td>1138</td>\n",
       "      <td>10</td>\n",
       "      <td>10</td>\n",
       "      <td>23</td>\n",
       "    </tr>\n",
       "    <tr>\n",
       "      <th>top</th>\n",
       "      <td>281656475</td>\n",
       "      <td>VR Roller Coaster</td>\n",
       "      <td>31624192</td>\n",
       "      <td>0</td>\n",
       "      <td>0</td>\n",
       "      <td>0</td>\n",
       "      <td>4.5</td>\n",
       "      <td>4.5</td>\n",
       "      <td>Games</td>\n",
       "    </tr>\n",
       "    <tr>\n",
       "      <th>freq</th>\n",
       "      <td>1</td>\n",
       "      <td>2</td>\n",
       "      <td>3</td>\n",
       "      <td>4056</td>\n",
       "      <td>929</td>\n",
       "      <td>1443</td>\n",
       "      <td>2663</td>\n",
       "      <td>2205</td>\n",
       "      <td>3862</td>\n",
       "    </tr>\n",
       "  </tbody>\n",
       "</table>\n",
       "</div>"
      ],
      "text/plain": [
       "                0                  1         2     3     4     5     6     7  \\\n",
       "count        7197               7197      7197  7197  7197  7197  7197  7197   \n",
       "unique       7197               7195      7107    36  3185  1138    10    10   \n",
       "top     281656475  VR Roller Coaster  31624192     0     0     0   4.5   4.5   \n",
       "freq            1                  2         3  4056   929  1443  2663  2205   \n",
       "\n",
       "            8  \n",
       "count    7197  \n",
       "unique     23  \n",
       "top     Games  \n",
       "freq     3862  "
      ]
     },
     "execution_count": 14,
     "metadata": {},
     "output_type": "execute_result"
    }
   ],
   "source": [
    "# your code here\n",
    "data.describe()"
   ]
  },
  {
   "cell_type": "code",
   "execution_count": 54,
   "metadata": {},
   "outputs": [
    {
     "data": {
      "text/html": [
       "<div>\n",
       "<style scoped>\n",
       "    .dataframe tbody tr th:only-of-type {\n",
       "        vertical-align: middle;\n",
       "    }\n",
       "\n",
       "    .dataframe tbody tr th {\n",
       "        vertical-align: top;\n",
       "    }\n",
       "\n",
       "    .dataframe thead th {\n",
       "        text-align: right;\n",
       "    }\n",
       "</style>\n",
       "<table border=\"1\" class=\"dataframe\">\n",
       "  <thead>\n",
       "    <tr style=\"text-align: right;\">\n",
       "      <th></th>\n",
       "      <th>index</th>\n",
       "      <th>0</th>\n",
       "      <th>1</th>\n",
       "      <th>2</th>\n",
       "      <th>3</th>\n",
       "      <th>4</th>\n",
       "      <th>5</th>\n",
       "      <th>6</th>\n",
       "      <th>7</th>\n",
       "      <th>8</th>\n",
       "    </tr>\n",
       "  </thead>\n",
       "  <tbody>\n",
       "    <tr>\n",
       "      <th>0</th>\n",
       "      <td>0</td>\n",
       "      <td>281656475</td>\n",
       "      <td>PAC-MAN Premium</td>\n",
       "      <td>100788224</td>\n",
       "      <td>3.99</td>\n",
       "      <td>21292</td>\n",
       "      <td>26</td>\n",
       "      <td>4</td>\n",
       "      <td>4.5</td>\n",
       "      <td>Games</td>\n",
       "    </tr>\n",
       "    <tr>\n",
       "      <th>1</th>\n",
       "      <td>1</td>\n",
       "      <td>281796108</td>\n",
       "      <td>Evernote - stay organized</td>\n",
       "      <td>158578688</td>\n",
       "      <td>0</td>\n",
       "      <td>161065</td>\n",
       "      <td>26</td>\n",
       "      <td>4</td>\n",
       "      <td>3.5</td>\n",
       "      <td>Productivity</td>\n",
       "    </tr>\n",
       "    <tr>\n",
       "      <th>2</th>\n",
       "      <td>2</td>\n",
       "      <td>281940292</td>\n",
       "      <td>\"WeatherBug - Local Weather, Radar, Maps, Alerts\"</td>\n",
       "      <td>100524032</td>\n",
       "      <td>0</td>\n",
       "      <td>188583</td>\n",
       "      <td>2822</td>\n",
       "      <td>3.5</td>\n",
       "      <td>4.5</td>\n",
       "      <td>Weather</td>\n",
       "    </tr>\n",
       "    <tr>\n",
       "      <th>3</th>\n",
       "      <td>3</td>\n",
       "      <td>282614216</td>\n",
       "      <td>\"eBay: Best App to Buy, Sell, Save! Online Sho...</td>\n",
       "      <td>128512000</td>\n",
       "      <td>0</td>\n",
       "      <td>262241</td>\n",
       "      <td>649</td>\n",
       "      <td>4</td>\n",
       "      <td>4.5</td>\n",
       "      <td>Shopping</td>\n",
       "    </tr>\n",
       "    <tr>\n",
       "      <th>4</th>\n",
       "      <td>4</td>\n",
       "      <td>282935706</td>\n",
       "      <td>Bible</td>\n",
       "      <td>92774400</td>\n",
       "      <td>0</td>\n",
       "      <td>985920</td>\n",
       "      <td>5320</td>\n",
       "      <td>4.5</td>\n",
       "      <td>5</td>\n",
       "      <td>Reference</td>\n",
       "    </tr>\n",
       "    <tr>\n",
       "      <th>...</th>\n",
       "      <td>...</td>\n",
       "      <td>...</td>\n",
       "      <td>...</td>\n",
       "      <td>...</td>\n",
       "      <td>...</td>\n",
       "      <td>...</td>\n",
       "      <td>...</td>\n",
       "      <td>...</td>\n",
       "      <td>...</td>\n",
       "      <td>...</td>\n",
       "    </tr>\n",
       "    <tr>\n",
       "      <th>7192</th>\n",
       "      <td>7192</td>\n",
       "      <td>1187617475</td>\n",
       "      <td>Kubik</td>\n",
       "      <td>126644224</td>\n",
       "      <td>0</td>\n",
       "      <td>142</td>\n",
       "      <td>75</td>\n",
       "      <td>4.5</td>\n",
       "      <td>4.5</td>\n",
       "      <td>Games</td>\n",
       "    </tr>\n",
       "    <tr>\n",
       "      <th>7193</th>\n",
       "      <td>7193</td>\n",
       "      <td>1187682390</td>\n",
       "      <td>VR Roller-Coaster</td>\n",
       "      <td>120760320</td>\n",
       "      <td>0</td>\n",
       "      <td>30</td>\n",
       "      <td>30</td>\n",
       "      <td>4.5</td>\n",
       "      <td>4.5</td>\n",
       "      <td>Games</td>\n",
       "    </tr>\n",
       "    <tr>\n",
       "      <th>7194</th>\n",
       "      <td>7194</td>\n",
       "      <td>1187779532</td>\n",
       "      <td>Bret Michaels Emojis + Lyric Keyboard</td>\n",
       "      <td>111322112</td>\n",
       "      <td>1.99</td>\n",
       "      <td>15</td>\n",
       "      <td>0</td>\n",
       "      <td>4.5</td>\n",
       "      <td>0</td>\n",
       "      <td>Utilities</td>\n",
       "    </tr>\n",
       "    <tr>\n",
       "      <th>7195</th>\n",
       "      <td>7195</td>\n",
       "      <td>1187838770</td>\n",
       "      <td>VR Roller Coaster World - Virtual Reality</td>\n",
       "      <td>97235968</td>\n",
       "      <td>0</td>\n",
       "      <td>85</td>\n",
       "      <td>32</td>\n",
       "      <td>4.5</td>\n",
       "      <td>4.5</td>\n",
       "      <td>Games</td>\n",
       "    </tr>\n",
       "    <tr>\n",
       "      <th>7196</th>\n",
       "      <td>7196</td>\n",
       "      <td>1188375727</td>\n",
       "      <td>Escape the Sweet Shop Series</td>\n",
       "      <td>90898432</td>\n",
       "      <td>0</td>\n",
       "      <td>3</td>\n",
       "      <td>3</td>\n",
       "      <td>5</td>\n",
       "      <td>5</td>\n",
       "      <td>Games</td>\n",
       "    </tr>\n",
       "  </tbody>\n",
       "</table>\n",
       "<p>7197 rows × 10 columns</p>\n",
       "</div>"
      ],
      "text/plain": [
       "      index           0                                                  1  \\\n",
       "0         0   281656475                                    PAC-MAN Premium   \n",
       "1         1   281796108                          Evernote - stay organized   \n",
       "2         2   281940292  \"WeatherBug - Local Weather, Radar, Maps, Alerts\"   \n",
       "3         3   282614216  \"eBay: Best App to Buy, Sell, Save! Online Sho...   \n",
       "4         4   282935706                                              Bible   \n",
       "...     ...         ...                                                ...   \n",
       "7192   7192  1187617475                                              Kubik   \n",
       "7193   7193  1187682390                                  VR Roller-Coaster   \n",
       "7194   7194  1187779532              Bret Michaels Emojis + Lyric Keyboard   \n",
       "7195   7195  1187838770          VR Roller Coaster World - Virtual Reality   \n",
       "7196   7196  1188375727                       Escape the Sweet Shop Series   \n",
       "\n",
       "              2     3       4     5    6    7             8  \n",
       "0     100788224  3.99   21292    26    4  4.5         Games  \n",
       "1     158578688     0  161065    26    4  3.5  Productivity  \n",
       "2     100524032     0  188583  2822  3.5  4.5       Weather  \n",
       "3     128512000     0  262241   649    4  4.5      Shopping  \n",
       "4      92774400     0  985920  5320  4.5    5     Reference  \n",
       "...         ...   ...     ...   ...  ...  ...           ...  \n",
       "7192  126644224     0     142    75  4.5  4.5         Games  \n",
       "7193  120760320     0      30    30  4.5  4.5         Games  \n",
       "7194  111322112  1.99      15     0  4.5    0     Utilities  \n",
       "7195   97235968     0      85    32  4.5  4.5         Games  \n",
       "7196   90898432     0       3     3    5    5         Games  \n",
       "\n",
       "[7197 rows x 10 columns]"
      ]
     },
     "execution_count": 54,
     "metadata": {},
     "output_type": "execute_result"
    }
   ],
   "source": [
    "data.reset_index()"
   ]
  },
  {
   "cell_type": "markdown",
   "metadata": {},
   "source": [
    "#### 6. Print the number of columns in the data."
   ]
  },
  {
   "cell_type": "code",
   "execution_count": 18,
   "metadata": {},
   "outputs": [
    {
     "data": {
      "text/plain": [
       "(7197, 9)"
      ]
     },
     "execution_count": 18,
     "metadata": {},
     "output_type": "execute_result"
    }
   ],
   "source": [
    "# your code here\n",
    "data.shape"
   ]
  },
  {
   "cell_type": "markdown",
   "metadata": {},
   "source": [
    "#### 7. Print all column names."
   ]
  },
  {
   "cell_type": "code",
   "execution_count": 62,
   "metadata": {},
   "outputs": [],
   "source": [
    "mapping = {data.columns[0]:'id', data.columns[1]: 'track_name', data.columns[2]:'size_bytes', data.columns[3]: 'price',data.columns[4]:'rating_count_tot', data.columns[5]: 'rating_count_ver',data.columns[6]:'user_rating', data.columns[7]: 'user_rating_ver',data.columns[8]:'prime_genre'}\n",
    "data = data.rename(columns=mapping)"
   ]
  },
  {
   "cell_type": "code",
   "execution_count": 70,
   "metadata": {},
   "outputs": [
    {
     "data": {
      "text/plain": [
       "Index(['id', 'track_name', 'size_bytes', 'price', 'rating_count_tot',\n",
       "       'rating_count_ver', 'user_rating', 'user_rating_ver', 'prime_genre'],\n",
       "      dtype='object')"
      ]
     },
     "execution_count": 70,
     "metadata": {},
     "output_type": "execute_result"
    }
   ],
   "source": [
    "data.columns"
   ]
  },
  {
   "cell_type": "markdown",
   "metadata": {},
   "source": [
    "#### 8.- Now that we have a general understanding of the data, we'll start working on the challenge questions. How many apps are there in the data source? Print the number of observations of the data.\n",
    "\n",
    "**Hint**: Your code should return the number 7197."
   ]
  },
  {
   "cell_type": "code",
   "execution_count": 50,
   "metadata": {},
   "outputs": [
    {
     "data": {
      "text/plain": [
       "7197"
      ]
     },
     "execution_count": 50,
     "metadata": {},
     "output_type": "execute_result"
    }
   ],
   "source": [
    "# your code here\n",
    "num_observations = data.shape[0]\n",
    "num_observations"
   ]
  },
  {
   "cell_type": "markdown",
   "metadata": {},
   "source": [
    "#### 9. What is the average rating of all apps? \n",
    "\n",
    "First, read the `user_rating` column into a varialbe named `user_rating`."
   ]
  },
  {
   "cell_type": "code",
   "execution_count": 65,
   "metadata": {},
   "outputs": [
    {
     "data": {
      "text/plain": [
       "3.526955675976101"
      ]
     },
     "execution_count": 65,
     "metadata": {},
     "output_type": "execute_result"
    }
   ],
   "source": [
    "# your code here\n",
    "user_rating = data['user_rating'].astype(float)\n"
   ]
  },
  {
   "cell_type": "markdown",
   "metadata": {},
   "source": [
    "Now you can calculate the average of the `user_rating` data.\n",
    "\n",
    "**Hint**: Your code should return 3.526955675976101."
   ]
  },
  {
   "cell_type": "code",
   "execution_count": 66,
   "metadata": {},
   "outputs": [
    {
     "data": {
      "text/plain": [
       "3.526955675976101"
      ]
     },
     "execution_count": 66,
     "metadata": {},
     "output_type": "execute_result"
    }
   ],
   "source": [
    "# your code here\n",
    "average_rating = user_rating.mean()\n",
    "average_rating"
   ]
  },
  {
   "cell_type": "markdown",
   "metadata": {},
   "source": [
    "#### 10. How many apps have an average rating no less than 4?\n",
    "\n",
    "First, filter `user_rating` where its value >= 4. \n",
    "\n",
    "Assign the filtered dataframe to a new variable called `user_rating_high`."
   ]
  },
  {
   "cell_type": "code",
   "execution_count": 74,
   "metadata": {},
   "outputs": [],
   "source": [
    "# your code here\n",
    "data['user_rating'] = pd.to_numeric(data['user_rating'], errors='coerce')\n",
    "user_rating_high = data[data['user_rating'] >= 4]"
   ]
  },
  {
   "cell_type": "markdown",
   "metadata": {},
   "source": [
    "Now obtain the length of `user_rating_high` which should return 4781."
   ]
  },
  {
   "cell_type": "code",
   "execution_count": 75,
   "metadata": {},
   "outputs": [
    {
     "data": {
      "text/plain": [
       "4781"
      ]
     },
     "execution_count": 75,
     "metadata": {},
     "output_type": "execute_result"
    }
   ],
   "source": [
    "# your code here\n",
    "len(user_rating_high)"
   ]
  },
  {
   "cell_type": "markdown",
   "metadata": {},
   "source": [
    "#### 11. How many genres are there in total for all the apps?\n",
    "\n",
    "Define a new variable named `genres` that contains the `prime_genre` column of `data`. Google for how to obtain unique values of a dataframe column. "
   ]
  },
  {
   "cell_type": "code",
   "execution_count": 79,
   "metadata": {},
   "outputs": [],
   "source": [
    "# your code here\n",
    "genres = data['prime_genre'].unique()"
   ]
  },
  {
   "cell_type": "markdown",
   "metadata": {},
   "source": [
    "Print the length of the unique values of `genres`. Your code should return 23."
   ]
  },
  {
   "cell_type": "code",
   "execution_count": 80,
   "metadata": {},
   "outputs": [
    {
     "data": {
      "text/plain": [
       "23"
      ]
     },
     "execution_count": 80,
     "metadata": {},
     "output_type": "execute_result"
    }
   ],
   "source": [
    "# your code here\n",
    "len(genres)"
   ]
  },
  {
   "cell_type": "markdown",
   "metadata": {},
   "source": [
    "#### 12. What are the top 3 genres that have the most number of apps?\n",
    "\n",
    "What you want to do is to count the number of occurrences of each unique genre values. Because you already know how to obtain the unique genre values, you can of course count the # of apps of each genre one by one. However, Pandas has a convient function to let you count all values of a dataframe column with a single command. Google for \"pandas count values\" to find the solution. Your code should return the following:\n",
    "\n",
    "```\n",
    "Games            3862\n",
    "Entertainment     535\n",
    "Education         453\n",
    "Name: prime_genre, dtype: int64\n",
    "```"
   ]
  },
  {
   "cell_type": "code",
   "execution_count": 81,
   "metadata": {},
   "outputs": [
    {
     "data": {
      "text/plain": [
       "Games            3862\n",
       "Entertainment     535\n",
       "Education         453\n",
       "Name: prime_genre, dtype: int64"
      ]
     },
     "execution_count": 81,
     "metadata": {},
     "output_type": "execute_result"
    }
   ],
   "source": [
    "# your code here\n",
    "top_genres = data['prime_genre'].value_counts().head(3)\n",
    "top_genres"
   ]
  },
  {
   "cell_type": "markdown",
   "metadata": {},
   "source": [
    "#### 13. Which genre is most likely to contain free apps?\n",
    "\n",
    "First, filter `data` where the price is 0.00. Assign the filtered data to a new variable called `free_apps`. Then count the values in `free_apps`. Your code should return:\n",
    "\n",
    "```\n",
    "Games                2257\n",
    "Entertainment         334\n",
    "Photo & Video         167\n",
    "Social Networking     143\n",
    "Education             132\n",
    "Shopping              121\n",
    "Utilities             109\n",
    "Lifestyle              94\n",
    "Finance                84\n",
    "Sports                 79\n",
    "Health & Fitness       76\n",
    "Music                  67\n",
    "Book                   66\n",
    "Productivity           62\n",
    "News                   58\n",
    "Travel                 56\n",
    "Food & Drink           43\n",
    "Weather                31\n",
    "Navigation             20\n",
    "Reference              20\n",
    "Business               20\n",
    "Catalogs                9\n",
    "Medical                 8\n",
    "Name: prime_genre, dtype: int64\n",
    "```"
   ]
  },
  {
   "cell_type": "code",
   "execution_count": 94,
   "metadata": {},
   "outputs": [
    {
     "data": {
      "text/plain": [
       "Games                2257\n",
       "Entertainment         334\n",
       "Photo & Video         167\n",
       "Social Networking     143\n",
       "Education             132\n",
       "Shopping              121\n",
       "Utilities             109\n",
       "Lifestyle              94\n",
       "Finance                84\n",
       "Sports                 79\n",
       "Health & Fitness       76\n",
       "Music                  67\n",
       "Book                   66\n",
       "Productivity           62\n",
       "News                   58\n",
       "Travel                 56\n",
       "Food & Drink           43\n",
       "Weather                31\n",
       "Business               20\n",
       "Reference              20\n",
       "Navigation             20\n",
       "Catalogs                9\n",
       "Medical                 8\n",
       "Name: prime_genre, dtype: int64"
      ]
     },
     "execution_count": 94,
     "metadata": {},
     "output_type": "execute_result"
    }
   ],
   "source": [
    "# your code here\n",
    "free_apps = data[data['price'] == 0]\n",
    "genre_counts = free_apps['prime_genre'].value_counts()\n",
    "\n",
    "genre_counts"
   ]
  },
  {
   "cell_type": "markdown",
   "metadata": {},
   "source": [
    "#### 14. Now you can calculate the proportion of the free apps in each genre based on the value counts you obtained in the previous two steps. \n",
    "\n",
    "Challenge yourself by achieving that with one line of code. The output should look like:\n",
    "\n",
    "```\n",
    "Shopping             0.991803\n",
    "Catalogs             0.900000\n",
    "Social Networking    0.856287\n",
    "Finance              0.807692\n",
    "News                 0.773333\n",
    "Sports               0.692982\n",
    "Travel               0.691358\n",
    "Food & Drink         0.682540\n",
    "Lifestyle            0.652778\n",
    "Entertainment        0.624299\n",
    "Book                 0.589286\n",
    "Games                0.584412\n",
    "Music                0.485507\n",
    "Photo & Video        0.478510\n",
    "Utilities            0.439516\n",
    "Navigation           0.434783\n",
    "Weather              0.430556\n",
    "Health & Fitness     0.422222\n",
    "Business             0.350877\n",
    "Productivity         0.348315\n",
    "Medical              0.347826\n",
    "Reference            0.312500\n",
    "Education            0.291391\n",
    "Name: prime_genre, dtype: float64\n",
    "```\n",
    "\n",
    "The numbers are interesting, aren't they?"
   ]
  },
  {
   "cell_type": "code",
   "execution_count": 96,
   "metadata": {},
   "outputs": [
    {
     "data": {
      "text/plain": [
       "Games                0.556460\n",
       "Entertainment        0.082347\n",
       "Photo & Video        0.041174\n",
       "Social Networking    0.035256\n",
       "Education            0.032544\n",
       "Shopping             0.029832\n",
       "Utilities            0.026874\n",
       "Lifestyle            0.023176\n",
       "Finance              0.020710\n",
       "Sports               0.019477\n",
       "Health & Fitness     0.018738\n",
       "Music                0.016519\n",
       "Book                 0.016272\n",
       "Productivity         0.015286\n",
       "News                 0.014300\n",
       "Travel               0.013807\n",
       "Food & Drink         0.010602\n",
       "Weather              0.007643\n",
       "Business             0.004931\n",
       "Reference            0.004931\n",
       "Navigation           0.004931\n",
       "Catalogs             0.002219\n",
       "Medical              0.001972\n",
       "Name: prime_genre, dtype: float64"
      ]
     },
     "execution_count": 96,
     "metadata": {},
     "output_type": "execute_result"
    }
   ],
   "source": [
    "# your code here\n",
    "genre_proportions = (genre_counts / len(free_apps))\n",
    "genre_proportions"
   ]
  },
  {
   "cell_type": "markdown",
   "metadata": {},
   "source": [
    "#### 15. If a developer tries to make money by developing and selling Apple Store apps, in which genre should s/he develop the apps? Please assume all apps cost the same amount of time and expense to develop.\n",
    "\n",
    "We will leave this question to you. There are several way to solve it. Ideally your output should look like below:\n",
    "\n",
    "```\n",
    "    average_price              genre\n",
    "21       8.776087            Medical\n",
    "11       5.116316           Business\n",
    "4        4.836875          Reference\n",
    "6        4.835435              Music\n",
    "1        4.330562       Productivity\n",
    "15       4.124783         Navigation\n",
    "16       4.028234          Education\n",
    "12       1.916444   Health & Fitness\n",
    "20       1.790536               Book\n",
    "7        1.647621          Utilities\n",
    "2        1.605417            Weather\n",
    "18       1.552381       Food & Drink\n",
    "14       1.473295      Photo & Video\n",
    "0        1.432923              Games\n",
    "8        1.120370             Travel\n",
    "10       0.953070             Sports\n",
    "13       0.889701      Entertainment\n",
    "17       0.885417          Lifestyle\n",
    "22       0.799000           Catalogs\n",
    "19       0.517733               News\n",
    "5        0.421154            Finance\n",
    "9        0.339880  Social Networking\n",
    "3        0.016311           Shopping\n",
    "```"
   ]
  },
  {
   "cell_type": "code",
   "execution_count": 101,
   "metadata": {},
   "outputs": [
    {
     "data": {
      "text/plain": [
       "prime_genre\n",
       "Medical              8.776087\n",
       "Business             5.116316\n",
       "Reference            4.836875\n",
       "Music                4.835435\n",
       "Productivity         4.330562\n",
       "Navigation           4.124783\n",
       "Education            4.028234\n",
       "Health & Fitness     1.916444\n",
       "Book                 1.790536\n",
       "Utilities            1.647621\n",
       "Weather              1.605417\n",
       "Food & Drink         1.552381\n",
       "Photo & Video        1.473295\n",
       "Games                1.432923\n",
       "Travel               1.120370\n",
       "Sports               0.953070\n",
       "Entertainment        0.889701\n",
       "Lifestyle            0.885417\n",
       "Catalogs             0.799000\n",
       "News                 0.517733\n",
       "Finance              0.421154\n",
       "Social Networking    0.339880\n",
       "Shopping             0.016311\n",
       "Name: price, dtype: float64"
      ]
     },
     "execution_count": 101,
     "metadata": {},
     "output_type": "execute_result"
    }
   ],
   "source": [
    "# your code here\n",
    "genre_avg_price = data.groupby('prime_genre')['price'].mean().sort_values(ascending = False)\n",
    "genre_avg_price\n",
    "#Medical would be at the top of making money from apps if we assume it costs the same amount of time and expense\n"
   ]
  },
  {
   "cell_type": "markdown",
   "metadata": {},
   "source": [
    "# Challenge - Applying Functions to DataFrames\n",
    "\n",
    "#### Our next step is to use the apply function to a dataframe and transform all cells.\n",
    "\n",
    "To do this, we will load a dataset below and then write a function that will perform the transformation."
   ]
  },
  {
   "cell_type": "code",
   "execution_count": null,
   "metadata": {},
   "outputs": [],
   "source": [
    "# Run this code:\n",
    "\n",
    "# The dataset below contains information about pollution from PM2.5 particles in Beijing \n",
    "\n",
    "url = \"https://archive.ics.uci.edu/ml/machine-learning-databases/00381/PRSA_data_2010.1.1-2014.12.31.csv\"\n",
    "pm25 = pd.read_csv(url)"
   ]
  },
  {
   "cell_type": "markdown",
   "metadata": {},
   "source": [
    "Let's look at the data using the head() function."
   ]
  },
  {
   "cell_type": "code",
   "execution_count": null,
   "metadata": {},
   "outputs": [],
   "source": [
    "# Your code here:"
   ]
  },
  {
   "cell_type": "markdown",
   "metadata": {},
   "source": [
    "The next step is to create a function that divides a cell by 24 to produce an hourly figure. Write the function below."
   ]
  },
  {
   "cell_type": "code",
   "execution_count": null,
   "metadata": {},
   "outputs": [],
   "source": [
    "def hourly(x):\n",
    "    '''\n",
    "    Input: A numerical value\n",
    "    Output: The value divided by 24\n",
    "        \n",
    "    Example:\n",
    "    Input: 48\n",
    "    Output: 2.0\n",
    "    '''\n",
    "    \n",
    "    # Your code here:\n",
    "    "
   ]
  },
  {
   "cell_type": "markdown",
   "metadata": {},
   "source": [
    "Apply this function to the columns Iws, Is, and Ir. Store this new dataframe in the variable pm25_hourly."
   ]
  },
  {
   "cell_type": "code",
   "execution_count": null,
   "metadata": {},
   "outputs": [],
   "source": [
    "# Your code here:"
   ]
  },
  {
   "cell_type": "markdown",
   "metadata": {},
   "source": [
    "#### Our last challenge will be to create an aggregate function and apply it to a select group of columns in our dataframe.\n",
    "\n",
    "Write a function that returns the standard deviation of a column divided by the length of a column minus 1. Since we are using pandas, do not use the `len()` function. One alternative is to use `count()`. Also, use the numpy version of standard deviation."
   ]
  },
  {
   "cell_type": "code",
   "execution_count": null,
   "metadata": {},
   "outputs": [],
   "source": [
    "def sample_sd(x):\n",
    "    '''\n",
    "    Input: A Pandas series of values\n",
    "    Output: the standard deviation divided by the number of elements in the series, minus 1 \n",
    "        \n",
    "    Example:\n",
    "    Input: pd.Series([1,2,3,4])\n",
    "    Output: 0.3726779962\n",
    "    '''\n",
    "    \n",
    "    # Your code here:"
   ]
  }
 ],
 "metadata": {
  "kernelspec": {
   "display_name": "Python 3 (ipykernel)",
   "language": "python",
   "name": "python3"
  },
  "language_info": {
   "codemirror_mode": {
    "name": "ipython",
    "version": 3
   },
   "file_extension": ".py",
   "mimetype": "text/x-python",
   "name": "python",
   "nbconvert_exporter": "python",
   "pygments_lexer": "ipython3",
   "version": "3.10.9"
  },
  "toc": {
   "base_numbering": 1,
   "nav_menu": {},
   "number_sections": false,
   "sideBar": true,
   "skip_h1_title": false,
   "title_cell": "Table of Contents",
   "title_sidebar": "Contents",
   "toc_cell": false,
   "toc_position": {},
   "toc_section_display": true,
   "toc_window_display": false
  },
  "varInspector": {
   "cols": {
    "lenName": 16,
    "lenType": 16,
    "lenVar": 40
   },
   "kernels_config": {
    "python": {
     "delete_cmd_postfix": "",
     "delete_cmd_prefix": "del ",
     "library": "var_list.py",
     "varRefreshCmd": "print(var_dic_list())"
    },
    "r": {
     "delete_cmd_postfix": ") ",
     "delete_cmd_prefix": "rm(",
     "library": "var_list.r",
     "varRefreshCmd": "cat(var_dic_list()) "
    }
   },
   "types_to_exclude": [
    "module",
    "function",
    "builtin_function_or_method",
    "instance",
    "_Feature"
   ],
   "window_display": false
  }
 },
 "nbformat": 4,
 "nbformat_minor": 2
}
