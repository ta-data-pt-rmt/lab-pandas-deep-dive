{
 "cells": [
  {
   "cell_type": "markdown",
   "metadata": {},
   "source": [
    "# Pandas Deep-Dive\n",
    "\n"
   ]
  },
  {
   "cell_type": "markdown",
   "metadata": {},
   "source": [
    "#### 1. Import Pandas package under the alias pd and Numpy under the alias np."
   ]
  },
  {
   "cell_type": "code",
   "execution_count": 1,
   "metadata": {},
   "outputs": [],
   "source": [
    "# your code here\n",
    "import pandas as pd\n",
    "import numpy as np"
   ]
  },
  {
   "cell_type": "markdown",
   "metadata": {},
   "source": [
    "#### 2. Use the `apple_store.sql` file to create a new database in mySQL workbench with that data. Once loaded, try to answer the following questions using mySQL workbench:\n",
    "\n",
    " - How many apps are there in the data source?\n",
    " - What is the average rating of all apps?\n",
    " - How many apps have an average rating no less than 4?\n",
    " - How many genres are there in total for all the apps?\n",
    " - Which genre is most likely to contain free apps?"
   ]
  },
  {
   "cell_type": "code",
   "execution_count": 16,
   "metadata": {},
   "outputs": [
    {
     "name": "stdout",
     "output_type": "stream",
     "text": [
      "Enter your MySQL password: ········\n",
      "Connected to the MySQL database.\n"
     ]
    }
   ],
   "source": [
    "import mysql.connector\n",
    "from getpass import getpass\n",
    "\n",
    "# Get MySQL credentials\n",
    "username = \"root\"\n",
    "host = \"localhost\"\n",
    "database = \"apple\"\n",
    "\n",
    "# Get password securely using getpass\n",
    "password = getpass(\"Enter your MySQL password: \")\n",
    "\n",
    "# Connect to the MySQL database\n",
    "try:\n",
    "    db_connection = mysql.connector.connect(\n",
    "        host=host,\n",
    "        user=username,\n",
    "        password=password,\n",
    "        database=database\n",
    "    )\n",
    "\n",
    "    # Check if the connection is successful\n",
    "    if db_connection.is_connected():\n",
    "        print(\"Connected to the MySQL database.\")\n",
    "\n",
    "    else:\n",
    "        print(\"Failed to connect to the MySQL database.\")\n",
    "\n",
    "except Exception as e:\n",
    "    print(f\"An error occurred: {e}\")"
   ]
  },
  {
   "cell_type": "code",
   "execution_count": 19,
   "metadata": {},
   "outputs": [
    {
     "name": "stdout",
     "output_type": "stream",
     "text": [
      "There is 7197 apps in the data source\n"
     ]
    }
   ],
   "source": [
    "import warnings\n",
    "\n",
    "warnings.filterwarnings(\"ignore\")\n",
    "\n",
    "#1. How many apps are there in the data source ?\n",
    "\n",
    "query_1 = \"SELECT COUNT(*) AS id FROM apple.apple_store;\"\n",
    "result_1 = pd.read_sql(query_1, db_connection)\n",
    "\n",
    "# Extract the count value from the DataFrame\n",
    "count_apps = result_1.iloc[0, 0]\n",
    "\n",
    "print(f\"There is {count_apps} apps in the data source\")"
   ]
  },
  {
   "cell_type": "code",
   "execution_count": 21,
   "metadata": {},
   "outputs": [
    {
     "name": "stdout",
     "output_type": "stream",
     "text": [
      "The average rating of all apps is 3.53\n"
     ]
    }
   ],
   "source": [
    "#2. What is the average rating of all apps ?\n",
    "\n",
    "query_2 = \"SELECT AVG(user_rating) AS average_rating FROM apple.apple_store;\"\n",
    "result_2 = pd.read_sql(query_2, db_connection)\n",
    "\n",
    "# Extract the count value from the DataFrame\n",
    "avg_rating = result_2.iloc[0, 0]\n",
    "\n",
    "print(f\"The average rating of all apps is {avg_rating:.2f}\")"
   ]
  },
  {
   "cell_type": "code",
   "execution_count": 22,
   "metadata": {},
   "outputs": [
    {
     "name": "stdout",
     "output_type": "stream",
     "text": [
      "There are 4781 apps with an average rating of 4 or higher.\n"
     ]
    }
   ],
   "source": [
    "#3. How many apps have an average rating no less than 4?\n",
    "\n",
    "query_3 = \"SELECT COUNT(*) AS count_high_rated FROM apple.apple_store WHERE user_rating >= 4;\"\n",
    "result_3 = pd.read_sql(query_3, db_connection)\n",
    "\n",
    "# Extract the count value from the DataFrame\n",
    "count_high_rated = result_3.iloc[0, 0]\n",
    "\n",
    "print(f\"There are {count_high_rated} apps with an average rating of 4 or higher.\")"
   ]
  },
  {
   "cell_type": "code",
   "execution_count": 27,
   "metadata": {},
   "outputs": [
    {
     "name": "stdout",
     "output_type": "stream",
     "text": [
      "There are 23 unique genres.\n",
      "List of all unique genres:\n",
      "Games\n",
      "Productivity\n",
      "Weather\n",
      "Shopping\n",
      "Reference\n",
      "Finance\n",
      "Music\n",
      "Utilities\n",
      "Travel\n",
      "Social Networking\n",
      "Sports\n",
      "Business\n",
      "Health & Fitness\n",
      "Entertainment\n",
      "Photo & Video\n",
      "Navigation\n",
      "Education\n",
      "Lifestyle\n",
      "Food & Drink\n",
      "News\n",
      "Book\n",
      "Medical\n",
      "Catalogs\n"
     ]
    }
   ],
   "source": [
    "#4. How many genres are there in total for all the apps?\n",
    "\n",
    "query_4 = \"SELECT COUNT(DISTINCT prime_genre) AS count_genres FROM apple.apple_store;\"\n",
    "result_4 = pd.read_sql(query_4, db_connection)\n",
    "\n",
    "count_genres = result_4.iloc[0, 0]\n",
    "\n",
    "print(f\"There are {count_genres} unique genres.\")\n",
    "\n",
    "#--\n",
    "\n",
    "query_unique_genres = \"SELECT DISTINCT prime_genre FROM apple.apple_store;\"\n",
    "result_unique_genres = pd.read_sql(query_unique_genres, db_connection)\n",
    "\n",
    "# Extract the genres from the DataFrame\n",
    "unique_genres = result_unique_genres['prime_genre'].tolist()\n",
    "\n",
    "# Print the list of all unique genres\n",
    "print(\"List of all unique genres:\")\n",
    "for genre in unique_genres:\n",
    "    print(genre)"
   ]
  },
  {
   "cell_type": "code",
   "execution_count": 31,
   "metadata": {},
   "outputs": [
    {
     "name": "stdout",
     "output_type": "stream",
     "text": [
      "The genre most likely to contain free apps is 'Shopping' with 99.18% free apps.\n"
     ]
    }
   ],
   "source": [
    "# 5. Which genre is most likely to contain free apps? (Alternative version)\n",
    "\n",
    "# Query to calculate the percentage of free apps in each genre\n",
    "query_most_likely_genre = \"\"\"\n",
    "    SELECT prime_genre,\n",
    "           COUNT(*) AS total_apps,\n",
    "           (SUM(price = 0) / COUNT(*)) * 100 AS percentage_free\n",
    "    FROM apple.apple_store\n",
    "    GROUP BY prime_genre\n",
    "    ORDER BY percentage_free DESC\n",
    "    LIMIT 1;\n",
    "\"\"\"\n",
    "\n",
    "# Execute the query and store the result in a DataFrame\n",
    "result_most_likely_genre = pd.read_sql(query_most_likely_genre, db_connection)\n",
    "\n",
    "#result_most_likely_genre (print df)\n",
    "\n",
    "# Extract the result / iloc[row_index, column_index]\n",
    "most_likely_genre = result_most_likely_genre.iloc[0, 0]\n",
    "percentage_free_in_most_likely_genre = result_most_likely_genre.iloc[0, 2]\n",
    "\n",
    "print(f\"The genre most likely to contain free apps is '{most_likely_genre}' with {percentage_free_in_most_likely_genre:.2f}% free apps.\")\n"
   ]
  },
  {
   "cell_type": "markdown",
   "metadata": {},
   "source": [
    "#### 3. Create a SQL connection in this notebook and load the `apple_store` dataset. Assign it to a variable called `data`, which would be a pandas dataframe."
   ]
  },
  {
   "cell_type": "code",
   "execution_count": 32,
   "metadata": {},
   "outputs": [
    {
     "data": {
      "text/html": [
       "<div>\n",
       "<style scoped>\n",
       "    .dataframe tbody tr th:only-of-type {\n",
       "        vertical-align: middle;\n",
       "    }\n",
       "\n",
       "    .dataframe tbody tr th {\n",
       "        vertical-align: top;\n",
       "    }\n",
       "\n",
       "    .dataframe thead th {\n",
       "        text-align: right;\n",
       "    }\n",
       "</style>\n",
       "<table border=\"1\" class=\"dataframe\">\n",
       "  <thead>\n",
       "    <tr style=\"text-align: right;\">\n",
       "      <th></th>\n",
       "      <th>id</th>\n",
       "      <th>track_name</th>\n",
       "      <th>size_bytes</th>\n",
       "      <th>price</th>\n",
       "      <th>rating_count_tot</th>\n",
       "      <th>rating_count_ver</th>\n",
       "      <th>user_rating</th>\n",
       "      <th>user_rating_ver</th>\n",
       "      <th>prime_genre</th>\n",
       "    </tr>\n",
       "  </thead>\n",
       "  <tbody>\n",
       "    <tr>\n",
       "      <th>0</th>\n",
       "      <td>281656475</td>\n",
       "      <td>PAC-MAN Premium</td>\n",
       "      <td>100788224</td>\n",
       "      <td>3.99</td>\n",
       "      <td>21292</td>\n",
       "      <td>26</td>\n",
       "      <td>4</td>\n",
       "      <td>4.5</td>\n",
       "      <td>Games</td>\n",
       "    </tr>\n",
       "    <tr>\n",
       "      <th>1</th>\n",
       "      <td>281796108</td>\n",
       "      <td>Evernote - stay organized</td>\n",
       "      <td>158578688</td>\n",
       "      <td>0</td>\n",
       "      <td>161065</td>\n",
       "      <td>26</td>\n",
       "      <td>4</td>\n",
       "      <td>3.5</td>\n",
       "      <td>Productivity</td>\n",
       "    </tr>\n",
       "    <tr>\n",
       "      <th>2</th>\n",
       "      <td>281940292</td>\n",
       "      <td>\"WeatherBug - Local Weather, Radar, Maps, Alerts\"</td>\n",
       "      <td>100524032</td>\n",
       "      <td>0</td>\n",
       "      <td>188583</td>\n",
       "      <td>2822</td>\n",
       "      <td>3.5</td>\n",
       "      <td>4.5</td>\n",
       "      <td>Weather</td>\n",
       "    </tr>\n",
       "    <tr>\n",
       "      <th>3</th>\n",
       "      <td>282614216</td>\n",
       "      <td>\"eBay: Best App to Buy, Sell, Save! Online Sho...</td>\n",
       "      <td>128512000</td>\n",
       "      <td>0</td>\n",
       "      <td>262241</td>\n",
       "      <td>649</td>\n",
       "      <td>4</td>\n",
       "      <td>4.5</td>\n",
       "      <td>Shopping</td>\n",
       "    </tr>\n",
       "    <tr>\n",
       "      <th>4</th>\n",
       "      <td>282935706</td>\n",
       "      <td>Bible</td>\n",
       "      <td>92774400</td>\n",
       "      <td>0</td>\n",
       "      <td>985920</td>\n",
       "      <td>5320</td>\n",
       "      <td>4.5</td>\n",
       "      <td>5</td>\n",
       "      <td>Reference</td>\n",
       "    </tr>\n",
       "  </tbody>\n",
       "</table>\n",
       "</div>"
      ],
      "text/plain": [
       "          id                                         track_name size_bytes  \\\n",
       "0  281656475                                    PAC-MAN Premium  100788224   \n",
       "1  281796108                          Evernote - stay organized  158578688   \n",
       "2  281940292  \"WeatherBug - Local Weather, Radar, Maps, Alerts\"  100524032   \n",
       "3  282614216  \"eBay: Best App to Buy, Sell, Save! Online Sho...  128512000   \n",
       "4  282935706                                              Bible   92774400   \n",
       "\n",
       "  price rating_count_tot rating_count_ver user_rating user_rating_ver  \\\n",
       "0  3.99            21292               26           4             4.5   \n",
       "1     0           161065               26           4             3.5   \n",
       "2     0           188583             2822         3.5             4.5   \n",
       "3     0           262241              649           4             4.5   \n",
       "4     0           985920             5320         4.5               5   \n",
       "\n",
       "    prime_genre  \n",
       "0         Games  \n",
       "1  Productivity  \n",
       "2       Weather  \n",
       "3      Shopping  \n",
       "4     Reference  "
      ]
     },
     "execution_count": 32,
     "metadata": {},
     "output_type": "execute_result"
    }
   ],
   "source": [
    "# your code here\n",
    "\n",
    "# load the apple_store dataset into a Pandas DataFrame\n",
    "query_load_data = \"SELECT * FROM apple_store;\"\n",
    "\n",
    "# Load the data into a Pandas DataFrame\n",
    "data = pd.read_sql(query_load_data, db_connection)\n",
    "\n",
    "data.head()"
   ]
  },
  {
   "cell_type": "markdown",
   "metadata": {},
   "source": [
    "#### 4. Print the first 5 rows of `data` to see what the data look like.\n",
    "\n",
    "A data analyst usually does this to have a general understanding about what the data look like before digging deep."
   ]
  },
  {
   "cell_type": "code",
   "execution_count": 34,
   "metadata": {},
   "outputs": [
    {
     "data": {
      "text/html": [
       "<div>\n",
       "<style scoped>\n",
       "    .dataframe tbody tr th:only-of-type {\n",
       "        vertical-align: middle;\n",
       "    }\n",
       "\n",
       "    .dataframe tbody tr th {\n",
       "        vertical-align: top;\n",
       "    }\n",
       "\n",
       "    .dataframe thead th {\n",
       "        text-align: right;\n",
       "    }\n",
       "</style>\n",
       "<table border=\"1\" class=\"dataframe\">\n",
       "  <thead>\n",
       "    <tr style=\"text-align: right;\">\n",
       "      <th></th>\n",
       "      <th>id</th>\n",
       "      <th>track_name</th>\n",
       "      <th>size_bytes</th>\n",
       "      <th>price</th>\n",
       "      <th>rating_count_tot</th>\n",
       "      <th>rating_count_ver</th>\n",
       "      <th>user_rating</th>\n",
       "      <th>user_rating_ver</th>\n",
       "      <th>prime_genre</th>\n",
       "    </tr>\n",
       "  </thead>\n",
       "  <tbody>\n",
       "    <tr>\n",
       "      <th>0</th>\n",
       "      <td>281656475</td>\n",
       "      <td>PAC-MAN Premium</td>\n",
       "      <td>100788224</td>\n",
       "      <td>3.99</td>\n",
       "      <td>21292</td>\n",
       "      <td>26</td>\n",
       "      <td>4</td>\n",
       "      <td>4.5</td>\n",
       "      <td>Games</td>\n",
       "    </tr>\n",
       "    <tr>\n",
       "      <th>1</th>\n",
       "      <td>281796108</td>\n",
       "      <td>Evernote - stay organized</td>\n",
       "      <td>158578688</td>\n",
       "      <td>0</td>\n",
       "      <td>161065</td>\n",
       "      <td>26</td>\n",
       "      <td>4</td>\n",
       "      <td>3.5</td>\n",
       "      <td>Productivity</td>\n",
       "    </tr>\n",
       "    <tr>\n",
       "      <th>2</th>\n",
       "      <td>281940292</td>\n",
       "      <td>\"WeatherBug - Local Weather, Radar, Maps, Alerts\"</td>\n",
       "      <td>100524032</td>\n",
       "      <td>0</td>\n",
       "      <td>188583</td>\n",
       "      <td>2822</td>\n",
       "      <td>3.5</td>\n",
       "      <td>4.5</td>\n",
       "      <td>Weather</td>\n",
       "    </tr>\n",
       "    <tr>\n",
       "      <th>3</th>\n",
       "      <td>282614216</td>\n",
       "      <td>\"eBay: Best App to Buy, Sell, Save! Online Sho...</td>\n",
       "      <td>128512000</td>\n",
       "      <td>0</td>\n",
       "      <td>262241</td>\n",
       "      <td>649</td>\n",
       "      <td>4</td>\n",
       "      <td>4.5</td>\n",
       "      <td>Shopping</td>\n",
       "    </tr>\n",
       "    <tr>\n",
       "      <th>4</th>\n",
       "      <td>282935706</td>\n",
       "      <td>Bible</td>\n",
       "      <td>92774400</td>\n",
       "      <td>0</td>\n",
       "      <td>985920</td>\n",
       "      <td>5320</td>\n",
       "      <td>4.5</td>\n",
       "      <td>5</td>\n",
       "      <td>Reference</td>\n",
       "    </tr>\n",
       "  </tbody>\n",
       "</table>\n",
       "</div>"
      ],
      "text/plain": [
       "          id                                         track_name size_bytes  \\\n",
       "0  281656475                                    PAC-MAN Premium  100788224   \n",
       "1  281796108                          Evernote - stay organized  158578688   \n",
       "2  281940292  \"WeatherBug - Local Weather, Radar, Maps, Alerts\"  100524032   \n",
       "3  282614216  \"eBay: Best App to Buy, Sell, Save! Online Sho...  128512000   \n",
       "4  282935706                                              Bible   92774400   \n",
       "\n",
       "  price rating_count_tot rating_count_ver user_rating user_rating_ver  \\\n",
       "0  3.99            21292               26           4             4.5   \n",
       "1     0           161065               26           4             3.5   \n",
       "2     0           188583             2822         3.5             4.5   \n",
       "3     0           262241              649           4             4.5   \n",
       "4     0           985920             5320         4.5               5   \n",
       "\n",
       "    prime_genre  \n",
       "0         Games  \n",
       "1  Productivity  \n",
       "2       Weather  \n",
       "3      Shopping  \n",
       "4     Reference  "
      ]
     },
     "execution_count": 34,
     "metadata": {},
     "output_type": "execute_result"
    }
   ],
   "source": [
    "# your code here\n",
    "\n",
    "data.head(5)"
   ]
  },
  {
   "cell_type": "markdown",
   "metadata": {},
   "source": [
    "#### 5. Print the summary of the data."
   ]
  },
  {
   "cell_type": "code",
   "execution_count": 35,
   "metadata": {},
   "outputs": [
    {
     "name": "stdout",
     "output_type": "stream",
     "text": [
      "<class 'pandas.core.frame.DataFrame'>\n",
      "RangeIndex: 7197 entries, 0 to 7196\n",
      "Data columns (total 9 columns):\n",
      " #   Column            Non-Null Count  Dtype \n",
      "---  ------            --------------  ----- \n",
      " 0   id                7197 non-null   object\n",
      " 1   track_name        7197 non-null   object\n",
      " 2   size_bytes        7197 non-null   object\n",
      " 3   price             7197 non-null   object\n",
      " 4   rating_count_tot  7197 non-null   object\n",
      " 5   rating_count_ver  7197 non-null   object\n",
      " 6   user_rating       7197 non-null   object\n",
      " 7   user_rating_ver   7197 non-null   object\n",
      " 8   prime_genre       7197 non-null   object\n",
      "dtypes: object(9)\n",
      "memory usage: 506.2+ KB\n"
     ]
    }
   ],
   "source": [
    "# your code here\n",
    "\n",
    "data.info()"
   ]
  },
  {
   "cell_type": "markdown",
   "metadata": {},
   "source": [
    "#### 6. Print the number of columns in the data."
   ]
  },
  {
   "cell_type": "code",
   "execution_count": 36,
   "metadata": {},
   "outputs": [
    {
     "data": {
      "text/plain": [
       "9"
      ]
     },
     "execution_count": 36,
     "metadata": {},
     "output_type": "execute_result"
    }
   ],
   "source": [
    "# your code here\n",
    "\n",
    "data.shape[1] # [0] = number of rows, [1] = number of columns"
   ]
  },
  {
   "cell_type": "markdown",
   "metadata": {},
   "source": [
    "#### 7. Print all column names."
   ]
  },
  {
   "cell_type": "code",
   "execution_count": 37,
   "metadata": {},
   "outputs": [
    {
     "data": {
      "text/plain": [
       "Index(['id', 'track_name', 'size_bytes', 'price', 'rating_count_tot',\n",
       "       'rating_count_ver', 'user_rating', 'user_rating_ver', 'prime_genre'],\n",
       "      dtype='object')"
      ]
     },
     "execution_count": 37,
     "metadata": {},
     "output_type": "execute_result"
    }
   ],
   "source": [
    "# your code here\n",
    "\n",
    "data.columns"
   ]
  },
  {
   "cell_type": "markdown",
   "metadata": {},
   "source": [
    "#### 8.- Now that we have a general understanding of the data, we'll start working on the challenge questions. How many apps are there in the data source? Print the number of observations of the data.\n",
    "\n",
    "**Hint**: Your code should return the number 7197."
   ]
  },
  {
   "cell_type": "code",
   "execution_count": 42,
   "metadata": {},
   "outputs": [
    {
     "data": {
      "text/plain": [
       "7197"
      ]
     },
     "execution_count": 42,
     "metadata": {},
     "output_type": "execute_result"
    }
   ],
   "source": [
    "num_app = data.shape[0]\n",
    "\n",
    "num_app"
   ]
  },
  {
   "cell_type": "markdown",
   "metadata": {},
   "source": [
    "#### 9. What is the average rating of all apps? \n",
    "\n",
    "First, read the `user_rating` column into a varialbe named `user_rating`."
   ]
  },
  {
   "cell_type": "code",
   "execution_count": 41,
   "metadata": {},
   "outputs": [
    {
     "data": {
      "text/plain": [
       "0         4\n",
       "1         4\n",
       "2       3.5\n",
       "3         4\n",
       "4       4.5\n",
       "       ... \n",
       "7192    4.5\n",
       "7193    4.5\n",
       "7194    4.5\n",
       "7195    4.5\n",
       "7196      5\n",
       "Name: user_rating, Length: 7197, dtype: object"
      ]
     },
     "execution_count": 41,
     "metadata": {},
     "output_type": "execute_result"
    }
   ],
   "source": [
    "user_rating = data['user_rating']\n",
    "\n",
    "user_rating"
   ]
  },
  {
   "cell_type": "markdown",
   "metadata": {},
   "source": [
    "Now you can calculate the average of the `user_rating` data.\n",
    "\n",
    "**Hint**: Your code should return 3.526955675976101."
   ]
  },
  {
   "cell_type": "code",
   "execution_count": 46,
   "metadata": {},
   "outputs": [
    {
     "name": "stdout",
     "output_type": "stream",
     "text": [
      "The average user rating is: 3.53\n"
     ]
    }
   ],
   "source": [
    "# your code here\n",
    "\n",
    "data['user_rating'] = pd.to_numeric(data['user_rating'], errors='coerce')\n",
    "\n",
    "average_user_rating = data['user_rating'].mean()\n",
    "print(f\"The average user rating is: {average_user_rating:.2f}\")"
   ]
  },
  {
   "cell_type": "markdown",
   "metadata": {},
   "source": [
    "#### 10. How many apps have an average rating no less than 4?\n",
    "\n",
    "First, filter `user_rating` where its value >= 4. \n",
    "\n",
    "Assign the filtered dataframe to a new variable called `user_rating_high`."
   ]
  },
  {
   "cell_type": "code",
   "execution_count": 47,
   "metadata": {},
   "outputs": [
    {
     "data": {
      "text/html": [
       "<div>\n",
       "<style scoped>\n",
       "    .dataframe tbody tr th:only-of-type {\n",
       "        vertical-align: middle;\n",
       "    }\n",
       "\n",
       "    .dataframe tbody tr th {\n",
       "        vertical-align: top;\n",
       "    }\n",
       "\n",
       "    .dataframe thead th {\n",
       "        text-align: right;\n",
       "    }\n",
       "</style>\n",
       "<table border=\"1\" class=\"dataframe\">\n",
       "  <thead>\n",
       "    <tr style=\"text-align: right;\">\n",
       "      <th></th>\n",
       "      <th>id</th>\n",
       "      <th>track_name</th>\n",
       "      <th>size_bytes</th>\n",
       "      <th>price</th>\n",
       "      <th>rating_count_tot</th>\n",
       "      <th>rating_count_ver</th>\n",
       "      <th>user_rating</th>\n",
       "      <th>user_rating_ver</th>\n",
       "      <th>prime_genre</th>\n",
       "    </tr>\n",
       "  </thead>\n",
       "  <tbody>\n",
       "    <tr>\n",
       "      <th>0</th>\n",
       "      <td>281656475</td>\n",
       "      <td>PAC-MAN Premium</td>\n",
       "      <td>100788224</td>\n",
       "      <td>3.99</td>\n",
       "      <td>21292</td>\n",
       "      <td>26</td>\n",
       "      <td>4.0</td>\n",
       "      <td>4.5</td>\n",
       "      <td>Games</td>\n",
       "    </tr>\n",
       "    <tr>\n",
       "      <th>1</th>\n",
       "      <td>281796108</td>\n",
       "      <td>Evernote - stay organized</td>\n",
       "      <td>158578688</td>\n",
       "      <td>0</td>\n",
       "      <td>161065</td>\n",
       "      <td>26</td>\n",
       "      <td>4.0</td>\n",
       "      <td>3.5</td>\n",
       "      <td>Productivity</td>\n",
       "    </tr>\n",
       "    <tr>\n",
       "      <th>3</th>\n",
       "      <td>282614216</td>\n",
       "      <td>\"eBay: Best App to Buy, Sell, Save! Online Sho...</td>\n",
       "      <td>128512000</td>\n",
       "      <td>0</td>\n",
       "      <td>262241</td>\n",
       "      <td>649</td>\n",
       "      <td>4.0</td>\n",
       "      <td>4.5</td>\n",
       "      <td>Shopping</td>\n",
       "    </tr>\n",
       "    <tr>\n",
       "      <th>4</th>\n",
       "      <td>282935706</td>\n",
       "      <td>Bible</td>\n",
       "      <td>92774400</td>\n",
       "      <td>0</td>\n",
       "      <td>985920</td>\n",
       "      <td>5320</td>\n",
       "      <td>4.5</td>\n",
       "      <td>5</td>\n",
       "      <td>Reference</td>\n",
       "    </tr>\n",
       "    <tr>\n",
       "      <th>5</th>\n",
       "      <td>283619399</td>\n",
       "      <td>Shanghai Mahjong</td>\n",
       "      <td>10485713</td>\n",
       "      <td>0.99</td>\n",
       "      <td>8253</td>\n",
       "      <td>5516</td>\n",
       "      <td>4.0</td>\n",
       "      <td>4</td>\n",
       "      <td>Games</td>\n",
       "    </tr>\n",
       "    <tr>\n",
       "      <th>...</th>\n",
       "      <td>...</td>\n",
       "      <td>...</td>\n",
       "      <td>...</td>\n",
       "      <td>...</td>\n",
       "      <td>...</td>\n",
       "      <td>...</td>\n",
       "      <td>...</td>\n",
       "      <td>...</td>\n",
       "      <td>...</td>\n",
       "    </tr>\n",
       "    <tr>\n",
       "      <th>7192</th>\n",
       "      <td>1187617475</td>\n",
       "      <td>Kubik</td>\n",
       "      <td>126644224</td>\n",
       "      <td>0</td>\n",
       "      <td>142</td>\n",
       "      <td>75</td>\n",
       "      <td>4.5</td>\n",
       "      <td>4.5</td>\n",
       "      <td>Games</td>\n",
       "    </tr>\n",
       "    <tr>\n",
       "      <th>7193</th>\n",
       "      <td>1187682390</td>\n",
       "      <td>VR Roller-Coaster</td>\n",
       "      <td>120760320</td>\n",
       "      <td>0</td>\n",
       "      <td>30</td>\n",
       "      <td>30</td>\n",
       "      <td>4.5</td>\n",
       "      <td>4.5</td>\n",
       "      <td>Games</td>\n",
       "    </tr>\n",
       "    <tr>\n",
       "      <th>7194</th>\n",
       "      <td>1187779532</td>\n",
       "      <td>Bret Michaels Emojis + Lyric Keyboard</td>\n",
       "      <td>111322112</td>\n",
       "      <td>1.99</td>\n",
       "      <td>15</td>\n",
       "      <td>0</td>\n",
       "      <td>4.5</td>\n",
       "      <td>0</td>\n",
       "      <td>Utilities</td>\n",
       "    </tr>\n",
       "    <tr>\n",
       "      <th>7195</th>\n",
       "      <td>1187838770</td>\n",
       "      <td>VR Roller Coaster World - Virtual Reality</td>\n",
       "      <td>97235968</td>\n",
       "      <td>0</td>\n",
       "      <td>85</td>\n",
       "      <td>32</td>\n",
       "      <td>4.5</td>\n",
       "      <td>4.5</td>\n",
       "      <td>Games</td>\n",
       "    </tr>\n",
       "    <tr>\n",
       "      <th>7196</th>\n",
       "      <td>1188375727</td>\n",
       "      <td>Escape the Sweet Shop Series</td>\n",
       "      <td>90898432</td>\n",
       "      <td>0</td>\n",
       "      <td>3</td>\n",
       "      <td>3</td>\n",
       "      <td>5.0</td>\n",
       "      <td>5</td>\n",
       "      <td>Games</td>\n",
       "    </tr>\n",
       "  </tbody>\n",
       "</table>\n",
       "<p>4781 rows × 9 columns</p>\n",
       "</div>"
      ],
      "text/plain": [
       "              id                                         track_name  \\\n",
       "0      281656475                                    PAC-MAN Premium   \n",
       "1      281796108                          Evernote - stay organized   \n",
       "3      282614216  \"eBay: Best App to Buy, Sell, Save! Online Sho...   \n",
       "4      282935706                                              Bible   \n",
       "5      283619399                                   Shanghai Mahjong   \n",
       "...          ...                                                ...   \n",
       "7192  1187617475                                              Kubik   \n",
       "7193  1187682390                                  VR Roller-Coaster   \n",
       "7194  1187779532              Bret Michaels Emojis + Lyric Keyboard   \n",
       "7195  1187838770          VR Roller Coaster World - Virtual Reality   \n",
       "7196  1188375727                       Escape the Sweet Shop Series   \n",
       "\n",
       "     size_bytes price rating_count_tot rating_count_ver  user_rating  \\\n",
       "0     100788224  3.99            21292               26          4.0   \n",
       "1     158578688     0           161065               26          4.0   \n",
       "3     128512000     0           262241              649          4.0   \n",
       "4      92774400     0           985920             5320          4.5   \n",
       "5      10485713  0.99             8253             5516          4.0   \n",
       "...         ...   ...              ...              ...          ...   \n",
       "7192  126644224     0              142               75          4.5   \n",
       "7193  120760320     0               30               30          4.5   \n",
       "7194  111322112  1.99               15                0          4.5   \n",
       "7195   97235968     0               85               32          4.5   \n",
       "7196   90898432     0                3                3          5.0   \n",
       "\n",
       "     user_rating_ver   prime_genre  \n",
       "0                4.5         Games  \n",
       "1                3.5  Productivity  \n",
       "3                4.5      Shopping  \n",
       "4                  5     Reference  \n",
       "5                  4         Games  \n",
       "...              ...           ...  \n",
       "7192             4.5         Games  \n",
       "7193             4.5         Games  \n",
       "7194               0     Utilities  \n",
       "7195             4.5         Games  \n",
       "7196               5         Games  \n",
       "\n",
       "[4781 rows x 9 columns]"
      ]
     },
     "execution_count": 47,
     "metadata": {},
     "output_type": "execute_result"
    }
   ],
   "source": [
    "# your code here\n",
    "\n",
    "user_rating_high = data[data['user_rating'] >= 4]\n",
    "\n",
    "user_rating_high"
   ]
  },
  {
   "cell_type": "markdown",
   "metadata": {},
   "source": [
    "Now obtain the length of `user_rating_high` which should return 4781."
   ]
  },
  {
   "cell_type": "code",
   "execution_count": 49,
   "metadata": {},
   "outputs": [
    {
     "data": {
      "text/plain": [
       "4781"
      ]
     },
     "execution_count": 49,
     "metadata": {},
     "output_type": "execute_result"
    }
   ],
   "source": [
    "# your code here\n",
    "\n",
    "len(user_rating_high)"
   ]
  },
  {
   "cell_type": "markdown",
   "metadata": {},
   "source": [
    "#### 11. How many genres are there in total for all the apps?\n",
    "\n",
    "Define a new variable named `genres` that contains the `prime_genre` column of `data`. Google for how to obtain unique values of a dataframe column. "
   ]
  },
  {
   "cell_type": "code",
   "execution_count": 50,
   "metadata": {},
   "outputs": [
    {
     "data": {
      "text/plain": [
       "array(['Games', 'Productivity', 'Weather', 'Shopping', 'Reference',\n",
       "       'Finance', 'Music', 'Utilities', 'Travel', 'Social Networking',\n",
       "       'Sports', 'Business', 'Health & Fitness', 'Entertainment',\n",
       "       'Photo & Video', 'Navigation', 'Education', 'Lifestyle',\n",
       "       'Food & Drink', 'News', 'Book', 'Medical', 'Catalogs'],\n",
       "      dtype=object)"
      ]
     },
     "execution_count": 50,
     "metadata": {},
     "output_type": "execute_result"
    }
   ],
   "source": [
    "# your code here\n",
    "\n",
    "genres = data['prime_genre'].unique()\n",
    "\n",
    "genres"
   ]
  },
  {
   "cell_type": "markdown",
   "metadata": {},
   "source": [
    "Print the length of the unique values of `genres`. Your code should return 23."
   ]
  },
  {
   "cell_type": "code",
   "execution_count": 51,
   "metadata": {},
   "outputs": [
    {
     "data": {
      "text/plain": [
       "23"
      ]
     },
     "execution_count": 51,
     "metadata": {},
     "output_type": "execute_result"
    }
   ],
   "source": [
    "# your code here\n",
    "\n",
    "len(genres)"
   ]
  },
  {
   "cell_type": "markdown",
   "metadata": {},
   "source": [
    "#### 12. What are the top 3 genres that have the most number of apps?\n",
    "\n",
    "What you want to do is to count the number of occurrences of each unique genre values. Because you already know how to obtain the unique genre values, you can of course count the # of apps of each genre one by one. However, Pandas has a convient function to let you count all values of a dataframe column with a single command. Google for \"pandas count values\" to find the solution. Your code should return the following:\n",
    "\n",
    "```\n",
    "Games            3862\n",
    "Entertainment     535\n",
    "Education         453\n",
    "Name: prime_genre, dtype: int64\n",
    "```"
   ]
  },
  {
   "cell_type": "code",
   "execution_count": 52,
   "metadata": {},
   "outputs": [
    {
     "data": {
      "text/plain": [
       "Games            3862\n",
       "Entertainment     535\n",
       "Education         453\n",
       "Name: prime_genre, dtype: int64"
      ]
     },
     "execution_count": 52,
     "metadata": {},
     "output_type": "execute_result"
    }
   ],
   "source": [
    "# your code here\n",
    "\n",
    "top_genres = data['prime_genre'].value_counts().head(3)\n",
    "\n",
    "top_genres"
   ]
  },
  {
   "cell_type": "markdown",
   "metadata": {},
   "source": [
    "#### 13. Which genre is most likely to contain free apps?\n",
    "\n",
    "First, filter `data` where the price is 0.00. Assign the filtered data to a new variable called `free_apps`. Then count the values in `free_apps`. Your code should return:\n",
    "\n",
    "```\n",
    "Games                2257\n",
    "Entertainment         334\n",
    "Photo & Video         167\n",
    "Social Networking     143\n",
    "Education             132\n",
    "Shopping              121\n",
    "Utilities             109\n",
    "Lifestyle              94\n",
    "Finance                84\n",
    "Sports                 79\n",
    "Health & Fitness       76\n",
    "Music                  67\n",
    "Book                   66\n",
    "Productivity           62\n",
    "News                   58\n",
    "Travel                 56\n",
    "Food & Drink           43\n",
    "Weather                31\n",
    "Navigation             20\n",
    "Reference              20\n",
    "Business               20\n",
    "Catalogs                9\n",
    "Medical                 8\n",
    "Name: prime_genre, dtype: int64\n",
    "```"
   ]
  },
  {
   "cell_type": "code",
   "execution_count": 56,
   "metadata": {},
   "outputs": [
    {
     "name": "stdout",
     "output_type": "stream",
     "text": [
      "object\n"
     ]
    }
   ],
   "source": [
    "# Check the data type of the 'price' column\n",
    "print(data['price'].dtype)\n"
   ]
  },
  {
   "cell_type": "code",
   "execution_count": 57,
   "metadata": {},
   "outputs": [
    {
     "data": {
      "text/plain": [
       "Games                2257\n",
       "Entertainment         334\n",
       "Photo & Video         167\n",
       "Social Networking     143\n",
       "Education             132\n",
       "Name: prime_genre, dtype: int64"
      ]
     },
     "execution_count": 57,
     "metadata": {},
     "output_type": "execute_result"
    }
   ],
   "source": [
    "# your code here\n",
    "\n",
    "data['price'] = pd.to_numeric(data['price'], errors='coerce') #coerce errors to NaN for non-convertible values\n",
    "\n",
    "free_apps = data[data['price'] == 0]\n",
    "\n",
    "genre_counts = free_apps['prime_genre'].value_counts()\n",
    "\n",
    "genre_counts.head()"
   ]
  },
  {
   "cell_type": "markdown",
   "metadata": {},
   "source": [
    "#### 14. Now you can calculate the proportion of the free apps in each genre based on the value counts you obtained in the previous two steps. \n",
    "\n",
    "Challenge yourself by achieving that with one line of code. The output should look like:\n",
    "\n",
    "```\n",
    "Shopping             0.991803\n",
    "Catalogs             0.900000\n",
    "Social Networking    0.856287\n",
    "Finance              0.807692\n",
    "News                 0.773333\n",
    "Sports               0.692982\n",
    "Travel               0.691358\n",
    "Food & Drink         0.682540\n",
    "Lifestyle            0.652778\n",
    "Entertainment        0.624299\n",
    "Book                 0.589286\n",
    "Games                0.584412\n",
    "Music                0.485507\n",
    "Photo & Video        0.478510\n",
    "Utilities            0.439516\n",
    "Navigation           0.434783\n",
    "Weather              0.430556\n",
    "Health & Fitness     0.422222\n",
    "Business             0.350877\n",
    "Productivity         0.348315\n",
    "Medical              0.347826\n",
    "Reference            0.312500\n",
    "Education            0.291391\n",
    "Name: prime_genre, dtype: float64\n",
    "```\n",
    "\n",
    "The numbers are interesting, aren't they?"
   ]
  },
  {
   "cell_type": "code",
   "execution_count": 58,
   "metadata": {},
   "outputs": [
    {
     "name": "stdout",
     "output_type": "stream",
     "text": [
      "Shopping             0.991803\n",
      "Catalogs             0.900000\n",
      "Social Networking    0.856287\n",
      "Finance              0.807692\n",
      "News                 0.773333\n",
      "Sports               0.692982\n",
      "Travel               0.691358\n",
      "Food & Drink         0.682540\n",
      "Lifestyle            0.652778\n",
      "Entertainment        0.624299\n",
      "Book                 0.589286\n",
      "Games                0.584412\n",
      "Music                0.485507\n",
      "Photo & Video        0.478510\n",
      "Utilities            0.439516\n",
      "Navigation           0.434783\n",
      "Weather              0.430556\n",
      "Health & Fitness     0.422222\n",
      "Business             0.350877\n",
      "Productivity         0.348315\n",
      "Medical              0.347826\n",
      "Reference            0.312500\n",
      "Education            0.291391\n",
      "Name: prime_genre, dtype: float64\n"
     ]
    }
   ],
   "source": [
    "# your code here\n",
    "\n",
    "#proportion_free_apps_by_genre = (data[data['price'] == 0.00]['prime_genre'].value_counts() / data['prime_genre'].value_counts()).sort_values(ascending=False)\n",
    "\n",
    "# Step 1: Filter data for free apps\n",
    "free_apps = data[data['price'] == 0.00]\n",
    "\n",
    "# Step 2: Calculate the count of free apps by genre\n",
    "free_apps_by_genre = free_apps['prime_genre'].value_counts()\n",
    "\n",
    "# Step 3: Calculate the total count of apps by genre\n",
    "total_apps_by_genre = data['prime_genre'].value_counts()\n",
    "\n",
    "# Step 4: Calculate the proportion of free apps in each genre\n",
    "proportion_free_apps_by_genre = (free_apps_by_genre / total_apps_by_genre).sort_values(ascending=False)\n",
    "\n",
    "print(proportion_free_apps_by_genre)\n"
   ]
  },
  {
   "cell_type": "markdown",
   "metadata": {},
   "source": [
    "#### 15. If a developer tries to make money by developing and selling Apple Store apps, in which genre should s/he develop the apps? Please assume all apps cost the same amount of time and expense to develop.\n",
    "\n",
    "We will leave this question to you. There are several way to solve it. Ideally your output should look like below:\n",
    "\n",
    "```\n",
    "    average_price              genre\n",
    "21       8.776087            Medical\n",
    "11       5.116316           Business\n",
    "4        4.836875          Reference\n",
    "6        4.835435              Music\n",
    "1        4.330562       Productivity\n",
    "15       4.124783         Navigation\n",
    "16       4.028234          Education\n",
    "12       1.916444   Health & Fitness\n",
    "20       1.790536               Book\n",
    "7        1.647621          Utilities\n",
    "2        1.605417            Weather\n",
    "18       1.552381       Food & Drink\n",
    "14       1.473295      Photo & Video\n",
    "0        1.432923              Games\n",
    "8        1.120370             Travel\n",
    "10       0.953070             Sports\n",
    "13       0.889701      Entertainment\n",
    "17       0.885417          Lifestyle\n",
    "22       0.799000           Catalogs\n",
    "19       0.517733               News\n",
    "5        0.421154            Finance\n",
    "9        0.339880  Social Networking\n",
    "3        0.016311           Shopping\n",
    "```"
   ]
  },
  {
   "cell_type": "code",
   "execution_count": 59,
   "metadata": {},
   "outputs": [
    {
     "name": "stdout",
     "output_type": "stream",
     "text": [
      "To make money, a developer should develop apps in the 'Medical' genre with an average price of 8.78.\n"
     ]
    }
   ],
   "source": [
    "# your code here\n",
    "\n",
    "average_price_by_genre = data.groupby('prime_genre')['price'].mean()\n",
    "\n",
    "# Select the genre with the highest average price\n",
    "most_profitable_genre = average_price_by_genre.idxmax()\n",
    "average_price_highest = average_price_by_genre.max()\n",
    "\n",
    "print(f\"To make money, a developer should develop apps in the '{most_profitable_genre}' genre with an average price of {average_price_highest:.2f}.\")\n"
   ]
  },
  {
   "cell_type": "code",
   "execution_count": 60,
   "metadata": {},
   "outputs": [
    {
     "name": "stdout",
     "output_type": "stream",
     "text": [
      "To make money, a developer should develop apps in the 'Medical' genre with an average price of 8.78.\n"
     ]
    }
   ],
   "source": [
    "# Calculate the average price for each genre and sort by descending average price\n",
    "sorted_genres_by_price = data.groupby('prime_genre')['price'].mean().sort_values(ascending=False)\n",
    "\n",
    "# Select the genre with the highest average price\n",
    "most_profitable_genre_alternative = sorted_genres_by_price.index[0] #first genre that appears\n",
    "average_price_highest_alternative = sorted_genres_by_price.iloc[0] #value related to the first genre\n",
    "\n",
    "print(f\"To make money, a developer should develop apps in the '{most_profitable_genre_alternative}' genre with an average price of {average_price_highest_alternative:.2f}.\")\n"
   ]
  },
  {
   "cell_type": "markdown",
   "metadata": {},
   "source": [
    "# Challenge - Applying Functions to DataFrames\n",
    "\n",
    "#### Our next step is to use the apply function to a dataframe and transform all cells.\n",
    "\n",
    "To do this, we will load a dataset below and then write a function that will perform the transformation."
   ]
  },
  {
   "cell_type": "code",
   "execution_count": 62,
   "metadata": {},
   "outputs": [],
   "source": [
    "# Run this code:\n",
    "\n",
    "# The dataset below contains information about pollution from PM2.5 particles in Beijing \n",
    "\n",
    "url = \"https://archive.ics.uci.edu/ml/machine-learning-databases/00381/PRSA_data_2010.1.1-2014.12.31.csv\"\n",
    "#pm25 = pd.read_csv(url)"
   ]
  },
  {
   "cell_type": "code",
   "execution_count": 65,
   "metadata": {},
   "outputs": [
    {
     "name": "stdout",
     "output_type": "stream",
     "text": [
      "   No  year  month  day  hour  pm2.5  DEWP  TEMP    PRES cbwd    Iws  Is  Ir\n",
      "0   1  2010      1    1     0    NaN   -21 -11.0  1021.0   NW   1.79   0   0\n",
      "1   2  2010      1    1     1    NaN   -21 -12.0  1020.0   NW   4.92   0   0\n",
      "2   3  2010      1    1     2    NaN   -21 -11.0  1019.0   NW   6.71   0   0\n",
      "3   4  2010      1    1     3    NaN   -21 -14.0  1019.0   NW   9.84   0   0\n",
      "4   5  2010      1    1     4    NaN   -20 -12.0  1018.0   NW  12.97   0   0\n"
     ]
    }
   ],
   "source": [
    "import requests\n",
    "\n",
    "# Download the file\n",
    "response = requests.get(url)\n",
    "\n",
    "if response.status_code == 200:\n",
    "    # Save the content to a local file\n",
    "    with open(\"PRSA_data.csv\", \"wb\") as f:\n",
    "        f.write(response.content)\n",
    "\n",
    "    # Read the CSV into a DataFrame\n",
    "    pm25 = pd.read_csv(\"PRSA_data.csv\")\n",
    "\n",
    "    print(pm25.head())\n",
    "    \n",
    "else:\n",
    "    print(\"Failed to download the file.\")"
   ]
  },
  {
   "cell_type": "markdown",
   "metadata": {},
   "source": [
    "Let's look at the data using the head() function."
   ]
  },
  {
   "cell_type": "code",
   "execution_count": 66,
   "metadata": {},
   "outputs": [
    {
     "data": {
      "text/html": [
       "<div>\n",
       "<style scoped>\n",
       "    .dataframe tbody tr th:only-of-type {\n",
       "        vertical-align: middle;\n",
       "    }\n",
       "\n",
       "    .dataframe tbody tr th {\n",
       "        vertical-align: top;\n",
       "    }\n",
       "\n",
       "    .dataframe thead th {\n",
       "        text-align: right;\n",
       "    }\n",
       "</style>\n",
       "<table border=\"1\" class=\"dataframe\">\n",
       "  <thead>\n",
       "    <tr style=\"text-align: right;\">\n",
       "      <th></th>\n",
       "      <th>No</th>\n",
       "      <th>year</th>\n",
       "      <th>month</th>\n",
       "      <th>day</th>\n",
       "      <th>hour</th>\n",
       "      <th>pm2.5</th>\n",
       "      <th>DEWP</th>\n",
       "      <th>TEMP</th>\n",
       "      <th>PRES</th>\n",
       "      <th>cbwd</th>\n",
       "      <th>Iws</th>\n",
       "      <th>Is</th>\n",
       "      <th>Ir</th>\n",
       "    </tr>\n",
       "  </thead>\n",
       "  <tbody>\n",
       "    <tr>\n",
       "      <th>0</th>\n",
       "      <td>1</td>\n",
       "      <td>2010</td>\n",
       "      <td>1</td>\n",
       "      <td>1</td>\n",
       "      <td>0</td>\n",
       "      <td>NaN</td>\n",
       "      <td>-21</td>\n",
       "      <td>-11.0</td>\n",
       "      <td>1021.0</td>\n",
       "      <td>NW</td>\n",
       "      <td>1.79</td>\n",
       "      <td>0</td>\n",
       "      <td>0</td>\n",
       "    </tr>\n",
       "    <tr>\n",
       "      <th>1</th>\n",
       "      <td>2</td>\n",
       "      <td>2010</td>\n",
       "      <td>1</td>\n",
       "      <td>1</td>\n",
       "      <td>1</td>\n",
       "      <td>NaN</td>\n",
       "      <td>-21</td>\n",
       "      <td>-12.0</td>\n",
       "      <td>1020.0</td>\n",
       "      <td>NW</td>\n",
       "      <td>4.92</td>\n",
       "      <td>0</td>\n",
       "      <td>0</td>\n",
       "    </tr>\n",
       "    <tr>\n",
       "      <th>2</th>\n",
       "      <td>3</td>\n",
       "      <td>2010</td>\n",
       "      <td>1</td>\n",
       "      <td>1</td>\n",
       "      <td>2</td>\n",
       "      <td>NaN</td>\n",
       "      <td>-21</td>\n",
       "      <td>-11.0</td>\n",
       "      <td>1019.0</td>\n",
       "      <td>NW</td>\n",
       "      <td>6.71</td>\n",
       "      <td>0</td>\n",
       "      <td>0</td>\n",
       "    </tr>\n",
       "    <tr>\n",
       "      <th>3</th>\n",
       "      <td>4</td>\n",
       "      <td>2010</td>\n",
       "      <td>1</td>\n",
       "      <td>1</td>\n",
       "      <td>3</td>\n",
       "      <td>NaN</td>\n",
       "      <td>-21</td>\n",
       "      <td>-14.0</td>\n",
       "      <td>1019.0</td>\n",
       "      <td>NW</td>\n",
       "      <td>9.84</td>\n",
       "      <td>0</td>\n",
       "      <td>0</td>\n",
       "    </tr>\n",
       "    <tr>\n",
       "      <th>4</th>\n",
       "      <td>5</td>\n",
       "      <td>2010</td>\n",
       "      <td>1</td>\n",
       "      <td>1</td>\n",
       "      <td>4</td>\n",
       "      <td>NaN</td>\n",
       "      <td>-20</td>\n",
       "      <td>-12.0</td>\n",
       "      <td>1018.0</td>\n",
       "      <td>NW</td>\n",
       "      <td>12.97</td>\n",
       "      <td>0</td>\n",
       "      <td>0</td>\n",
       "    </tr>\n",
       "  </tbody>\n",
       "</table>\n",
       "</div>"
      ],
      "text/plain": [
       "   No  year  month  day  hour  pm2.5  DEWP  TEMP    PRES cbwd    Iws  Is  Ir\n",
       "0   1  2010      1    1     0    NaN   -21 -11.0  1021.0   NW   1.79   0   0\n",
       "1   2  2010      1    1     1    NaN   -21 -12.0  1020.0   NW   4.92   0   0\n",
       "2   3  2010      1    1     2    NaN   -21 -11.0  1019.0   NW   6.71   0   0\n",
       "3   4  2010      1    1     3    NaN   -21 -14.0  1019.0   NW   9.84   0   0\n",
       "4   5  2010      1    1     4    NaN   -20 -12.0  1018.0   NW  12.97   0   0"
      ]
     },
     "execution_count": 66,
     "metadata": {},
     "output_type": "execute_result"
    }
   ],
   "source": [
    "# Your code here:\n",
    "pm25.head()"
   ]
  },
  {
   "cell_type": "markdown",
   "metadata": {},
   "source": [
    "The next step is to create a function that divides a cell by 24 to produce an hourly figure. Write the function below."
   ]
  },
  {
   "cell_type": "code",
   "execution_count": 67,
   "metadata": {},
   "outputs": [],
   "source": [
    "def hourly(x):\n",
    "    '''\n",
    "    Input: A numerical value\n",
    "    Output: The value divided by 24\n",
    "        \n",
    "    Example:\n",
    "    Input: 48\n",
    "    Output: 2.0\n",
    "    '''\n",
    "    \n",
    "    # Your code here:\n",
    "    return x/24\n",
    "    "
   ]
  },
  {
   "cell_type": "markdown",
   "metadata": {},
   "source": [
    "Apply this function to the columns Iws, Is, and Ir. Store this new dataframe in the variable pm25_hourly."
   ]
  },
  {
   "cell_type": "code",
   "execution_count": 69,
   "metadata": {},
   "outputs": [
    {
     "data": {
      "text/html": [
       "<div>\n",
       "<style scoped>\n",
       "    .dataframe tbody tr th:only-of-type {\n",
       "        vertical-align: middle;\n",
       "    }\n",
       "\n",
       "    .dataframe tbody tr th {\n",
       "        vertical-align: top;\n",
       "    }\n",
       "\n",
       "    .dataframe thead th {\n",
       "        text-align: right;\n",
       "    }\n",
       "</style>\n",
       "<table border=\"1\" class=\"dataframe\">\n",
       "  <thead>\n",
       "    <tr style=\"text-align: right;\">\n",
       "      <th></th>\n",
       "      <th>No</th>\n",
       "      <th>year</th>\n",
       "      <th>month</th>\n",
       "      <th>day</th>\n",
       "      <th>hour</th>\n",
       "      <th>pm2.5</th>\n",
       "      <th>DEWP</th>\n",
       "      <th>TEMP</th>\n",
       "      <th>PRES</th>\n",
       "      <th>cbwd</th>\n",
       "      <th>Iws</th>\n",
       "      <th>Is</th>\n",
       "      <th>Ir</th>\n",
       "    </tr>\n",
       "  </thead>\n",
       "  <tbody>\n",
       "    <tr>\n",
       "      <th>0</th>\n",
       "      <td>1</td>\n",
       "      <td>2010</td>\n",
       "      <td>1</td>\n",
       "      <td>1</td>\n",
       "      <td>0</td>\n",
       "      <td>NaN</td>\n",
       "      <td>-21</td>\n",
       "      <td>-11.0</td>\n",
       "      <td>1021.0</td>\n",
       "      <td>NW</td>\n",
       "      <td>0.074583</td>\n",
       "      <td>0.0</td>\n",
       "      <td>0.0</td>\n",
       "    </tr>\n",
       "    <tr>\n",
       "      <th>1</th>\n",
       "      <td>2</td>\n",
       "      <td>2010</td>\n",
       "      <td>1</td>\n",
       "      <td>1</td>\n",
       "      <td>1</td>\n",
       "      <td>NaN</td>\n",
       "      <td>-21</td>\n",
       "      <td>-12.0</td>\n",
       "      <td>1020.0</td>\n",
       "      <td>NW</td>\n",
       "      <td>0.205000</td>\n",
       "      <td>0.0</td>\n",
       "      <td>0.0</td>\n",
       "    </tr>\n",
       "    <tr>\n",
       "      <th>2</th>\n",
       "      <td>3</td>\n",
       "      <td>2010</td>\n",
       "      <td>1</td>\n",
       "      <td>1</td>\n",
       "      <td>2</td>\n",
       "      <td>NaN</td>\n",
       "      <td>-21</td>\n",
       "      <td>-11.0</td>\n",
       "      <td>1019.0</td>\n",
       "      <td>NW</td>\n",
       "      <td>0.279583</td>\n",
       "      <td>0.0</td>\n",
       "      <td>0.0</td>\n",
       "    </tr>\n",
       "    <tr>\n",
       "      <th>3</th>\n",
       "      <td>4</td>\n",
       "      <td>2010</td>\n",
       "      <td>1</td>\n",
       "      <td>1</td>\n",
       "      <td>3</td>\n",
       "      <td>NaN</td>\n",
       "      <td>-21</td>\n",
       "      <td>-14.0</td>\n",
       "      <td>1019.0</td>\n",
       "      <td>NW</td>\n",
       "      <td>0.410000</td>\n",
       "      <td>0.0</td>\n",
       "      <td>0.0</td>\n",
       "    </tr>\n",
       "    <tr>\n",
       "      <th>4</th>\n",
       "      <td>5</td>\n",
       "      <td>2010</td>\n",
       "      <td>1</td>\n",
       "      <td>1</td>\n",
       "      <td>4</td>\n",
       "      <td>NaN</td>\n",
       "      <td>-20</td>\n",
       "      <td>-12.0</td>\n",
       "      <td>1018.0</td>\n",
       "      <td>NW</td>\n",
       "      <td>0.540417</td>\n",
       "      <td>0.0</td>\n",
       "      <td>0.0</td>\n",
       "    </tr>\n",
       "  </tbody>\n",
       "</table>\n",
       "</div>"
      ],
      "text/plain": [
       "   No  year  month  day  hour  pm2.5  DEWP  TEMP    PRES cbwd       Iws   Is  \\\n",
       "0   1  2010      1    1     0    NaN   -21 -11.0  1021.0   NW  0.074583  0.0   \n",
       "1   2  2010      1    1     1    NaN   -21 -12.0  1020.0   NW  0.205000  0.0   \n",
       "2   3  2010      1    1     2    NaN   -21 -11.0  1019.0   NW  0.279583  0.0   \n",
       "3   4  2010      1    1     3    NaN   -21 -14.0  1019.0   NW  0.410000  0.0   \n",
       "4   5  2010      1    1     4    NaN   -20 -12.0  1018.0   NW  0.540417  0.0   \n",
       "\n",
       "    Ir  \n",
       "0  0.0  \n",
       "1  0.0  \n",
       "2  0.0  \n",
       "3  0.0  \n",
       "4  0.0  "
      ]
     },
     "execution_count": 69,
     "metadata": {},
     "output_type": "execute_result"
    }
   ],
   "source": [
    "# Your code here:\n",
    "\n",
    "columns_to_apply_hourly = ['Iws', 'Is', 'Ir']\n",
    "\n",
    "pm25_hourly = pm25.copy()\n",
    "\n",
    "pm25_hourly[columns_to_apply_hourly] = pm25_hourly[columns_to_apply_hourly].apply(hourly)\n",
    "\n",
    "pm25_hourly.head()"
   ]
  },
  {
   "cell_type": "markdown",
   "metadata": {},
   "source": [
    "#### Our last challenge will be to create an aggregate function and apply it to a select group of columns in our dataframe.\n",
    "\n",
    "Write a function that returns the standard deviation of a column divided by the length of a column minus 1. Since we are using pandas, do not use the `len()` function. One alternative is to use `count()`. Also, use the numpy version of standard deviation."
   ]
  },
  {
   "cell_type": "code",
   "execution_count": 74,
   "metadata": {},
   "outputs": [
    {
     "data": {
      "text/plain": [
       "0.37267799624996495"
      ]
     },
     "execution_count": 74,
     "metadata": {},
     "output_type": "execute_result"
    }
   ],
   "source": [
    "def sample_sd(x):\n",
    "    '''\n",
    "    Input: A Pandas series of values\n",
    "    Output: the standard deviation divided by the number of elements in the series, minus 1 \n",
    "        \n",
    "    Example:\n",
    "    Input: pd.Series([1,2,3,4])\n",
    "    Output: 0.3726779962\n",
    "    '''\n",
    "    \n",
    "    # Your code here:\n",
    "    len_data =x.count()-1\n",
    "    std_data = np.std(x)\n",
    "    return std_data/len_data\n",
    "\n",
    "sample_sd(pd.Series([1,2,3,4]))"
   ]
  },
  {
   "cell_type": "code",
   "execution_count": 75,
   "metadata": {},
   "outputs": [
    {
     "data": {
      "text/plain": [
       "No       2.886817e-01\n",
       "year     3.226220e-05\n",
       "month    7.869231e-05\n",
       "day      2.007924e-04\n",
       "hour     1.579578e-04\n",
       "pm2.5    2.204456e-03\n",
       "DEWP     3.293539e-04\n",
       "TEMP     2.783578e-04\n",
       "PRES     2.343194e-04\n",
       "cbwd     2.140360e-05\n",
       "Iws      4.754929e-05\n",
       "Is       7.229519e-07\n",
       "Ir       1.346183e-06\n",
       "dtype: float64"
      ]
     },
     "execution_count": 75,
     "metadata": {},
     "output_type": "execute_result"
    }
   ],
   "source": [
    "# Convert categorical column 'cbwd' to numeric using label encoding\n",
    "\n",
    "pm25_hourly.apply(sample_sd)"
   ]
  },
  {
   "cell_type": "code",
   "execution_count": null,
   "metadata": {},
   "outputs": [],
   "source": []
  }
 ],
 "metadata": {
  "kernelspec": {
   "display_name": "Python 3 (ipykernel)",
   "language": "python",
   "name": "python3"
  },
  "language_info": {
   "codemirror_mode": {
    "name": "ipython",
    "version": 3
   },
   "file_extension": ".py",
   "mimetype": "text/x-python",
   "name": "python",
   "nbconvert_exporter": "python",
   "pygments_lexer": "ipython3",
   "version": "3.10.9"
  },
  "toc": {
   "base_numbering": 1,
   "nav_menu": {},
   "number_sections": false,
   "sideBar": true,
   "skip_h1_title": false,
   "title_cell": "Table of Contents",
   "title_sidebar": "Contents",
   "toc_cell": false,
   "toc_position": {},
   "toc_section_display": true,
   "toc_window_display": false
  },
  "varInspector": {
   "cols": {
    "lenName": 16,
    "lenType": 16,
    "lenVar": 40
   },
   "kernels_config": {
    "python": {
     "delete_cmd_postfix": "",
     "delete_cmd_prefix": "del ",
     "library": "var_list.py",
     "varRefreshCmd": "print(var_dic_list())"
    },
    "r": {
     "delete_cmd_postfix": ") ",
     "delete_cmd_prefix": "rm(",
     "library": "var_list.r",
     "varRefreshCmd": "cat(var_dic_list()) "
    }
   },
   "types_to_exclude": [
    "module",
    "function",
    "builtin_function_or_method",
    "instance",
    "_Feature"
   ],
   "window_display": false
  }
 },
 "nbformat": 4,
 "nbformat_minor": 2
}
